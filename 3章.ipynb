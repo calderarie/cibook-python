{
  "nbformat": 4,
  "nbformat_minor": 0,
  "metadata": {
    "colab": {
      "name": "3章.ipynb",
      "provenance": []
    },
    "kernelspec": {
      "name": "python3",
      "display_name": "Python 3"
    }
  },
  "cells": [
    {
      "cell_type": "markdown",
      "metadata": {
        "id": "nXz33K-rl3VD",
        "colab_type": "text"
      },
      "source": [
        "# データの準備"
      ]
    },
    {
      "cell_type": "code",
      "metadata": {
        "id": "DaRQ4NhumGwt",
        "colab_type": "code",
        "colab": {}
      },
      "source": [
        "import pandas as pd\n",
        "import numpy as np\n",
        "np.random.seed(529)\n",
        "\n",
        "# データの読み込み\n",
        "email_data = pd.read_csv('http://www.minethatdata.com/Kevin_Hillstrom_MineThatData_E-MailAnalytics_DataMiningChallenge_2008.03.20.csv')\n",
        "\n",
        "# 女性向けメール配信データの削除と介入変数の追加\n",
        "male_df = email_data.copy()  # SettingWithCoppyWarningを回避するためにコピーしているが、本質的に意味はない\n",
        "male_df = male_df[male_df['segment'] != 'Womens E-Mail']\n",
        "male_df['treatment'] = male_df['segment'].apply(lambda x: 1 if x == 'Mens E-Mail' else 0)\n",
        "\n",
        "# バイアスのあるデータの準備\n",
        "obs_rate_c = 0.5\n",
        "obs_rate_t = 0.5\n",
        "\n",
        "biased_data = male_df.copy()\n",
        "biase_rule = (biased_data['history'] > 300) | (biased_data['recency'] < 6) | (biased_data['channel'] == 'Multichannel')\n",
        "biased_data['obs_rate_c'] = biase_rule.apply(lambda x: obs_rate_c if x else 1)\n",
        "biased_data['obs_rate_t'] = biase_rule.apply(lambda x: 1 if x else obs_rate_t)\n",
        "biased_data['random_number'] = np.random.uniform(size=biased_data.shape[0])\n",
        "biased_data = (\n",
        "    biased_data[\n",
        "                ((biased_data['treatment'] == 0) & (biased_data['random_number'] < biased_data['obs_rate_c']))\n",
        "                | ((biased_data['treatment'] == 1) & (biased_data['random_number'] < biased_data['obs_rate_t']))\n",
        "                ]\n",
        ")"
      ],
      "execution_count": 1,
      "outputs": []
    },
    {
      "cell_type": "markdown",
      "metadata": {
        "id": "4i2JmJjCrVUn",
        "colab_type": "text"
      },
      "source": [
        "# ロジスティック回帰"
      ]
    },
    {
      "cell_type": "markdown",
      "metadata": {
        "id": "4bf8vyaSrX5q",
        "colab_type": "text"
      },
      "source": [
        "## sklearn"
      ]
    },
    {
      "cell_type": "code",
      "metadata": {
        "id": "0XjSwOJNraUt",
        "colab_type": "code",
        "colab": {}
      },
      "source": [
        "from sklearn.linear_model import LogisticRegression\n",
        "\n",
        "X = pd.get_dummies(biased_data[['recency', 'history', 'channel']])  # channelをダミー変数化\n",
        "treatment = biased_data['treatment'] \n",
        "\n",
        "model = LogisticRegression().fit(X, treatment)"
      ],
      "execution_count": 2,
      "outputs": []
    },
    {
      "cell_type": "code",
      "metadata": {
        "id": "X_D1p9lgsBCB",
        "colab_type": "code",
        "colab": {
          "base_uri": "https://localhost:8080/",
          "height": 52
        },
        "outputId": "b74fad52-da57-4244-8e46-f3b81e1ac0d0"
      },
      "source": [
        "model.intercept_, model.coef_"
      ],
      "execution_count": 3,
      "outputs": [
        {
          "output_type": "execute_result",
          "data": {
            "text/plain": [
              "(array([0.59362486]),\n",
              " array([[-0.12416563,  0.00059096,  0.38100911,  0.10874707,  0.10332302]]))"
            ]
          },
          "metadata": {
            "tags": []
          },
          "execution_count": 3
        }
      ]
    },
    {
      "cell_type": "markdown",
      "metadata": {
        "id": "qKdfcIrrsItH",
        "colab_type": "text"
      },
      "source": [
        "## statsmodels"
      ]
    },
    {
      "cell_type": "code",
      "metadata": {
        "id": "H-TxcVoxsLe-",
        "colab_type": "code",
        "colab": {}
      },
      "source": [
        "import statsmodels.api as sm\n",
        "from statsmodels.formula.api import glm, logit\n",
        "\n",
        "# モデルの学習\n",
        "model = glm('treatment ~ history + recency + channel', data=biased_data, family=sm.families.Binomial()).fit()  # MultiChannelが反映されない\n",
        "# model = logit('treatment ~ history + recency + channel', data=biased_data).fit()  # 上と同様\n",
        "# sklearnの結果と一致しない\n",
        "\n",
        "biased_data2 = pd.get_dummies(biased_data[['treatment', 'recency', 'history', 'channel']])  # channelをダミー変数化すると、sklearnと一致する\n",
        "model = glm('treatment ~ history + recency + channel_Multichannel + channel_Phone + channel_Web', data=biased_data2, family=sm.families.Binomial()).fit()"
      ],
      "execution_count": 5,
      "outputs": []
    },
    {
      "cell_type": "code",
      "metadata": {
        "id": "abchig3LtqsN",
        "colab_type": "code",
        "colab": {
          "base_uri": "https://localhost:8080/",
          "height": 357
        },
        "outputId": "e91044a1-839c-4030-9559-42c4ca492d61"
      },
      "source": [
        "model.summary() "
      ],
      "execution_count": 6,
      "outputs": [
        {
          "output_type": "execute_result",
          "data": {
            "text/html": [
              "<table class=\"simpletable\">\n",
              "<caption>Generalized Linear Model Regression Results</caption>\n",
              "<tr>\n",
              "  <th>Dep. Variable:</th>       <td>treatment</td>    <th>  No. Observations:  </th>  <td> 32050</td> \n",
              "</tr>\n",
              "<tr>\n",
              "  <th>Model:</th>                  <td>GLM</td>       <th>  Df Residuals:      </th>  <td> 32045</td> \n",
              "</tr>\n",
              "<tr>\n",
              "  <th>Model Family:</th>        <td>Binomial</td>     <th>  Df Model:          </th>  <td>     4</td> \n",
              "</tr>\n",
              "<tr>\n",
              "  <th>Link Function:</th>         <td>logit</td>      <th>  Scale:             </th> <td>  1.0000</td>\n",
              "</tr>\n",
              "<tr>\n",
              "  <th>Method:</th>                <td>IRLS</td>       <th>  Log-Likelihood:    </th> <td> -21122.</td>\n",
              "</tr>\n",
              "<tr>\n",
              "  <th>Date:</th>            <td>Sat, 27 Jun 2020</td> <th>  Deviance:          </th> <td>  42245.</td>\n",
              "</tr>\n",
              "<tr>\n",
              "  <th>Time:</th>                <td>14:27:08</td>     <th>  Pearson chi2:      </th> <td>3.22e+04</td>\n",
              "</tr>\n",
              "<tr>\n",
              "  <th>No. Iterations:</th>          <td>4</td>        <th>                     </th>     <td> </td>   \n",
              "</tr>\n",
              "<tr>\n",
              "  <th>Covariance Type:</th>     <td>nonrobust</td>    <th>                     </th>     <td> </td>   \n",
              "</tr>\n",
              "</table>\n",
              "<table class=\"simpletable\">\n",
              "<tr>\n",
              "            <td></td>              <th>coef</th>     <th>std err</th>      <th>z</th>      <th>P>|z|</th>  <th>[0.025</th>    <th>0.975]</th>  \n",
              "</tr>\n",
              "<tr>\n",
              "  <th>Intercept</th>            <td>    0.5939</td> <td>    0.023</td> <td>   25.509</td> <td> 0.000</td> <td>    0.548</td> <td>    0.640</td>\n",
              "</tr>\n",
              "<tr>\n",
              "  <th>history</th>              <td>    0.0006</td> <td> 5.42e-05</td> <td>   10.894</td> <td> 0.000</td> <td>    0.000</td> <td>    0.001</td>\n",
              "</tr>\n",
              "<tr>\n",
              "  <th>recency</th>              <td>   -0.1242</td> <td>    0.003</td> <td>  -36.249</td> <td> 0.000</td> <td>   -0.131</td> <td>   -0.117</td>\n",
              "</tr>\n",
              "<tr>\n",
              "  <th>channel_Multichannel</th> <td>    0.3824</td> <td>    0.031</td> <td>   12.354</td> <td> 0.000</td> <td>    0.322</td> <td>    0.443</td>\n",
              "</tr>\n",
              "<tr>\n",
              "  <th>channel_Phone</th>        <td>    0.1026</td> <td>    0.017</td> <td>    5.974</td> <td> 0.000</td> <td>    0.069</td> <td>    0.136</td>\n",
              "</tr>\n",
              "<tr>\n",
              "  <th>channel_Web</th>          <td>    0.1089</td> <td>    0.017</td> <td>    6.359</td> <td> 0.000</td> <td>    0.075</td> <td>    0.143</td>\n",
              "</tr>\n",
              "</table>"
            ],
            "text/plain": [
              "<class 'statsmodels.iolib.summary.Summary'>\n",
              "\"\"\"\n",
              "                 Generalized Linear Model Regression Results                  \n",
              "==============================================================================\n",
              "Dep. Variable:              treatment   No. Observations:                32050\n",
              "Model:                            GLM   Df Residuals:                    32045\n",
              "Model Family:                Binomial   Df Model:                            4\n",
              "Link Function:                  logit   Scale:                          1.0000\n",
              "Method:                          IRLS   Log-Likelihood:                -21122.\n",
              "Date:                Sat, 27 Jun 2020   Deviance:                       42245.\n",
              "Time:                        14:27:08   Pearson chi2:                 3.22e+04\n",
              "No. Iterations:                     4                                         \n",
              "Covariance Type:            nonrobust                                         \n",
              "========================================================================================\n",
              "                           coef    std err          z      P>|z|      [0.025      0.975]\n",
              "----------------------------------------------------------------------------------------\n",
              "Intercept                0.5939      0.023     25.509      0.000       0.548       0.640\n",
              "history                  0.0006   5.42e-05     10.894      0.000       0.000       0.001\n",
              "recency                 -0.1242      0.003    -36.249      0.000      -0.131      -0.117\n",
              "channel_Multichannel     0.3824      0.031     12.354      0.000       0.322       0.443\n",
              "channel_Phone            0.1026      0.017      5.974      0.000       0.069       0.136\n",
              "channel_Web              0.1089      0.017      6.359      0.000       0.075       0.143\n",
              "========================================================================================\n",
              "\"\"\""
            ]
          },
          "metadata": {
            "tags": []
          },
          "execution_count": 6
        }
      ]
    },
    {
      "cell_type": "code",
      "metadata": {
        "id": "GP9V-vQM16iN",
        "colab_type": "code",
        "colab": {
          "base_uri": "https://localhost:8080/",
          "height": 158
        },
        "outputId": "0eec287e-a4c0-422b-be3b-865f8449dca5"
      },
      "source": [
        "biased_data.groupby(['treatment', 'channel']).size()"
      ],
      "execution_count": 7,
      "outputs": [
        {
          "output_type": "execute_result",
          "data": {
            "text/plain": [
              "treatment  channel     \n",
              "0          Multichannel    1346\n",
              "           Phone           6715\n",
              "           Web             6769\n",
              "1          Multichannel    2577\n",
              "           Phone           7271\n",
              "           Web             7372\n",
              "dtype: int64"
            ]
          },
          "metadata": {
            "tags": []
          },
          "execution_count": 7
        }
      ]
    },
    {
      "cell_type": "markdown",
      "metadata": {
        "id": "lzAWnkb_mKdp",
        "colab_type": "text"
      },
      "source": [
        "# 傾向スコアを用いた効果推定"
      ]
    },
    {
      "cell_type": "code",
      "metadata": {
        "id": "L-mLHg0-mPbl",
        "colab_type": "code",
        "colab": {}
      },
      "source": [
        "!pip install -q dowhy"
      ],
      "execution_count": 8,
      "outputs": []
    },
    {
      "cell_type": "code",
      "metadata": {
        "id": "43up3hy_mRK1",
        "colab_type": "code",
        "colab": {
          "base_uri": "https://localhost:8080/",
          "height": 70
        },
        "outputId": "6b52c069-7951-4320-81dd-4eb8764d3e09"
      },
      "source": [
        "import dowhy\n",
        "from dowhy import CausalModel\n",
        "\n",
        "biased_data = biased_data.astype({\"treatment\":'bool'}, copy=False)  # treatmentをbool化\n",
        "\n",
        "model=CausalModel(\n",
        "    data = biased_data,\n",
        "    treatment='treatment',\n",
        "    outcome='spend',\n",
        "    common_causes=['recency', 'history', 'channel']\n",
        ")"
      ],
      "execution_count": 9,
      "outputs": [
        {
          "output_type": "stream",
          "text": [
            "WARNING:dowhy.causal_model:Causal Graph not provided. DoWhy will construct a graph based on data inputs.\n",
            "INFO:dowhy.causal_graph:If this is observed data (not from a randomized experiment), there might always be missing confounders. Adding a node named \"Unobserved Confounders\" to reflect this.\n",
            "INFO:dowhy.causal_model:Model to find the causal effect of treatment ['treatment'] on outcome ['spend']\n"
          ],
          "name": "stderr"
        }
      ]
    },
    {
      "cell_type": "code",
      "metadata": {
        "id": "bjpATvqrnFwT",
        "colab_type": "code",
        "colab": {
          "base_uri": "https://localhost:8080/",
          "height": 87
        },
        "outputId": "0ff121cd-77c4-417d-d81f-2ea93acb6a66"
      },
      "source": [
        "identified_estimand = model.identify_effect(proceed_when_unidentifiable=True)"
      ],
      "execution_count": 10,
      "outputs": [
        {
          "output_type": "stream",
          "text": [
            "INFO:dowhy.causal_identifier:Common causes of treatment and outcome:['U', 'recency', 'history', 'channel']\n",
            "WARNING:dowhy.causal_identifier:If this is observed data (not from a randomized experiment), there might always be missing confounders. Causal effect cannot be identified perfectly.\n",
            "INFO:dowhy.causal_identifier:Continuing by ignoring these unobserved confounders because proceed_when_unidentifiable flag is True.\n",
            "INFO:dowhy.causal_identifier:Instrumental variables for treatment and outcome:[]\n"
          ],
          "name": "stderr"
        }
      ]
    },
    {
      "cell_type": "markdown",
      "metadata": {
        "id": "ucUnx6lb_W_a",
        "colab_type": "text"
      },
      "source": [
        "## 傾向スコアマッチング"
      ]
    },
    {
      "cell_type": "code",
      "metadata": {
        "id": "zSA6CqF0nRwV",
        "colab_type": "code",
        "colab": {
          "base_uri": "https://localhost:8080/",
          "height": 213
        },
        "outputId": "cea38ba9-381c-42a9-d796-eedb59af5f30"
      },
      "source": [
        "# 最近傍マッチング\n",
        "nearest_ate = model.estimate_effect(\n",
        "    identified_estimand, \n",
        "    method_name=\"backdoor.propensity_score_matching\",\n",
        "    target_units='ate',\n",
        ")\n",
        "nearest_att = model.estimate_effect(\n",
        "    identified_estimand, \n",
        "    method_name=\"backdoor.propensity_score_matching\",\n",
        "    target_units='att', \n",
        ")\n",
        "\n",
        "print(f'ATE: {nearest_ate.value}')\n",
        "print(f'ATT: {nearest_att.value}')"
      ],
      "execution_count": 11,
      "outputs": [
        {
          "output_type": "stream",
          "text": [
            "INFO:dowhy.causal_estimator:INFO: Using Propensity Score Matching Estimator\n",
            "INFO:dowhy.causal_estimator:b: spend~treatment+recency+history+channel\n",
            "/usr/local/lib/python3.6/dist-packages/sklearn/utils/validation.py:760: DataConversionWarning: A column-vector y was passed when a 1d array was expected. Please change the shape of y to (n_samples, ), for example using ravel().\n",
            "  y = column_or_1d(y, warn=True)\n",
            "INFO:dowhy.causal_estimator:INFO: Using Propensity Score Matching Estimator\n",
            "INFO:dowhy.causal_estimator:b: spend~treatment+recency+history+channel\n",
            "/usr/local/lib/python3.6/dist-packages/sklearn/utils/validation.py:760: DataConversionWarning: A column-vector y was passed when a 1d array was expected. Please change the shape of y to (n_samples, ), for example using ravel().\n",
            "  y = column_or_1d(y, warn=True)\n"
          ],
          "name": "stderr"
        },
        {
          "output_type": "stream",
          "text": [
            "ATE: 0.7051223088923552\n",
            "ATT: 0.8436991869918691\n"
          ],
          "name": "stdout"
        }
      ]
    },
    {
      "cell_type": "code",
      "metadata": {
        "id": "gFfAnTdPnoWG",
        "colab_type": "code",
        "colab": {
          "base_uri": "https://localhost:8080/",
          "height": 213
        },
        "outputId": "0c5a1ca7-9c04-428f-b338-262ad2e18bfd"
      },
      "source": [
        "# 層別マッチング\n",
        "stratification_ate = model.estimate_effect(\n",
        "    identified_estimand,\n",
        "    method_name=\"backdoor.propensity_score_stratification\",\n",
        "    target_units='ate',\n",
        "    method_params={'num_strata':50, 'clipping_threshold':5},\n",
        ")\n",
        "stratification_att = model.estimate_effect(\n",
        "    identified_estimand,\n",
        "    method_name=\"backdoor.propensity_score_stratification\",\n",
        "    target_units='att',\n",
        "    method_params={'num_strata':50, 'clipping_threshold':5},\n",
        ")\n",
        "\n",
        "print(f'ATE: {stratification_ate.value}')\n",
        "print(f'ATT: {stratification_att.value}')"
      ],
      "execution_count": 12,
      "outputs": [
        {
          "output_type": "stream",
          "text": [
            "INFO:dowhy.causal_estimator:INFO: Using Propensity Score Stratification Estimator\n",
            "INFO:dowhy.causal_estimator:b: spend~treatment+recency+history+channel\n",
            "/usr/local/lib/python3.6/dist-packages/sklearn/utils/validation.py:760: DataConversionWarning: A column-vector y was passed when a 1d array was expected. Please change the shape of y to (n_samples, ), for example using ravel().\n",
            "  y = column_or_1d(y, warn=True)\n",
            "INFO:dowhy.causal_estimator:INFO: Using Propensity Score Stratification Estimator\n",
            "INFO:dowhy.causal_estimator:b: spend~treatment+recency+history+channel\n",
            "/usr/local/lib/python3.6/dist-packages/sklearn/utils/validation.py:760: DataConversionWarning: A column-vector y was passed when a 1d array was expected. Please change the shape of y to (n_samples, ), for example using ravel().\n",
            "  y = column_or_1d(y, warn=True)\n"
          ],
          "name": "stderr"
        },
        {
          "output_type": "stream",
          "text": [
            "ATE: 0.7859774577808909\n",
            "ATT: 0.8068018461979135\n"
          ],
          "name": "stdout"
        }
      ]
    },
    {
      "cell_type": "markdown",
      "metadata": {
        "id": "E12qNQC-_bAL",
        "colab_type": "text"
      },
      "source": [
        "## IPW"
      ]
    },
    {
      "cell_type": "code",
      "metadata": {
        "id": "bf3R42kd_avr",
        "colab_type": "code",
        "colab": {
          "base_uri": "https://localhost:8080/",
          "height": 125
        },
        "outputId": "2e967e65-21bf-4742-d385-75aedecd01dc"
      },
      "source": [
        "ipw_estimate = model.estimate_effect(\n",
        "    identified_estimand,\n",
        "    method_name=\"backdoor.propensity_score_weighting\",\n",
        "    target_units='ate',\n",
        ")\n",
        "\n",
        "print(f'ATE: {ipw_estimate.value}')"
      ],
      "execution_count": 13,
      "outputs": [
        {
          "output_type": "stream",
          "text": [
            "INFO:dowhy.causal_estimator:INFO: Using Propensity Score Weighting Estimator\n",
            "INFO:dowhy.causal_estimator:b: spend~treatment+recency+history+channel\n",
            "/usr/local/lib/python3.6/dist-packages/sklearn/utils/validation.py:760: DataConversionWarning: A column-vector y was passed when a 1d array was expected. Please change the shape of y to (n_samples, ), for example using ravel().\n",
            "  y = column_or_1d(y, warn=True)\n"
          ],
          "name": "stderr"
        },
        {
          "output_type": "stream",
          "text": [
            "ATE: 0.7394694379803795\n"
          ],
          "name": "stdout"
        }
      ]
    },
    {
      "cell_type": "markdown",
      "metadata": {
        "id": "OfxrONMFCxqD",
        "colab_type": "text"
      },
      "source": [
        "## 回帰分析"
      ]
    },
    {
      "cell_type": "code",
      "metadata": {
        "id": "DgfQNHIVqaRf",
        "colab_type": "code",
        "colab": {
          "base_uri": "https://localhost:8080/",
          "height": 615
        },
        "outputId": "0d83624a-ea6e-4d7b-9a1a-e7c074f996b2"
      },
      "source": [
        "# 回帰分析\n",
        "estimate = model.estimate_effect(\n",
        "    identified_estimand,\n",
        "    method_name=\"backdoor.linear_regression\", #test_significance=True\n",
        ")\n",
        "\n",
        "print(\"Causal Estimate is \" + str(estimate.value))\n"
      ],
      "execution_count": 14,
      "outputs": [
        {
          "output_type": "stream",
          "text": [
            "INFO:dowhy.causal_estimator:INFO: Using Linear Regression Estimator\n",
            "INFO:dowhy.causal_estimator:b: spend~treatment+recency+history+channel\n"
          ],
          "name": "stderr"
        },
        {
          "output_type": "stream",
          "text": [
            "                            OLS Regression Results                            \n",
            "==============================================================================\n",
            "Dep. Variable:                  spend   R-squared:                       0.001\n",
            "Model:                            OLS   Adj. R-squared:                  0.001\n",
            "Method:                 Least Squares   F-statistic:                     9.168\n",
            "Date:                Sat, 27 Jun 2020   Prob (F-statistic):           9.94e-09\n",
            "Time:                        14:28:13   Log-Likelihood:            -1.3406e+05\n",
            "No. Observations:               32050   AIC:                         2.681e+05\n",
            "Df Residuals:                   32044   BIC:                         2.682e+05\n",
            "Df Model:                           5                                         \n",
            "Covariance Type:            nonrobust                                         \n",
            "==============================================================================\n",
            "                 coef    std err          t      P>|t|      [0.025      0.975]\n",
            "------------------------------------------------------------------------------\n",
            "const          0.3705      0.388      0.955      0.340      -0.390       1.131\n",
            "x1             0.7414      0.183      4.043      0.000       0.382       1.101\n",
            "x2            -0.0477      0.027     -1.792      0.073      -0.100       0.004\n",
            "x3             0.0013      0.000      3.466      0.001       0.001       0.002\n",
            "x4             0.2091      0.311      0.672      0.502      -0.401       0.819\n",
            "x5             0.4646      0.311      1.495      0.135      -0.144       1.074\n",
            "==============================================================================\n",
            "Omnibus:                    70672.767   Durbin-Watson:                   2.003\n",
            "Prob(Omnibus):                  0.000   Jarque-Bera (JB):        339933280.038\n",
            "Skew:                          20.562   Prob(JB):                         0.00\n",
            "Kurtosis:                     505.853   Cond. No.                     2.16e+03\n",
            "==============================================================================\n",
            "\n",
            "Warnings:\n",
            "[1] Standard Errors assume that the covariance matrix of the errors is correctly specified.\n",
            "[2] The condition number is large, 2.16e+03. This might indicate that there are\n",
            "strong multicollinearity or other numerical problems.\n",
            "Causal Estimate is 0.7414337344828655\n"
          ],
          "name": "stdout"
        }
      ]
    },
    {
      "cell_type": "markdown",
      "metadata": {
        "id": "8-c9Cqq_3em6",
        "colab_type": "text"
      },
      "source": [
        "# 標準化平均差の可視化"
      ]
    },
    {
      "cell_type": "code",
      "metadata": {
        "id": "WYDaoU82XPTq",
        "colab_type": "code",
        "colab": {}
      },
      "source": [
        "# ASAMの算出\n",
        "def calculate_asam(data, treatment_column, columns):\n",
        "  treated_index = data[treatment_column] == 1 \n",
        "  data = pd.get_dummies(data[columns])\n",
        "\n",
        "  asam = data.apply(lambda c: abs(c[treated_index].mean() - c[~treated_index].mean()) / c.std())\n",
        "  asam['distance'] = np.sqrt(np.sum(asam**2))  # 定義が分からん\n",
        "  return asam"
      ],
      "execution_count": 173,
      "outputs": []
    },
    {
      "cell_type": "markdown",
      "metadata": {
        "id": "Up7vyN6yhVeE",
        "colab_type": "text"
      },
      "source": [
        "## 傾向スコアマッチング"
      ]
    },
    {
      "cell_type": "code",
      "metadata": {
        "id": "Qc3JLBdfJRdD",
        "colab_type": "code",
        "colab": {}
      },
      "source": [
        "from sklearn.neighbors import NearestNeighbors\n",
        "\n",
        "# 傾向スコアマッチング\n",
        "def get_matching_data(data, treatment_column, propensity_score):\n",
        "  data['ps'] = propensity_score\n",
        "  treated = data[data[treatment_column] == 1]\n",
        "  control = data[data[treatment_column] == 0]\n",
        "\n",
        "  # 介入有サンプルのマッチング\n",
        "  control_neighbors = NearestNeighbors(n_neighbors=1, algorithm='ball_tree').fit(control['ps'].values.reshape(-1, 1))\n",
        "  distances, indices = control_neighbors.kneighbors(treated['ps'].values.reshape(-1, 1))\n",
        "  # distancesでマッチングの閾値を設定できる(未対応)\n",
        "\n",
        "  matching_data = pd.concat([treated, control.iloc[indices.flatten()]])\n",
        "  return matching_data\n"
      ],
      "execution_count": 16,
      "outputs": []
    },
    {
      "cell_type": "code",
      "metadata": {
        "id": "IzWYWW7eQNpP",
        "colab_type": "code",
        "colab": {
          "base_uri": "https://localhost:8080/",
          "height": 122
        },
        "outputId": "e3961550-8e48-4d76-ea77-920393e0e20a"
      },
      "source": [
        "matching_data = get_matching_data(biased_data[['treatment', 'recency', 'channel', 'history']], 'treatment', nearest_ate.propensity_scores)\n",
        "unadjusted_asam = calculate_asam(biased_data, 'treatment', ['recency', 'history', 'channel'])\n",
        "matching_adjusted_asam = calculate_asam(matching_data, 'treatment', ['recency', 'history', 'channel'])"
      ],
      "execution_count": 17,
      "outputs": [
        {
          "output_type": "stream",
          "text": [
            "/usr/local/lib/python3.6/dist-packages/ipykernel_launcher.py:5: SettingWithCopyWarning: \n",
            "A value is trying to be set on a copy of a slice from a DataFrame.\n",
            "Try using .loc[row_indexer,col_indexer] = value instead\n",
            "\n",
            "See the caveats in the documentation: https://pandas.pydata.org/pandas-docs/stable/user_guide/indexing.html#returning-a-view-versus-a-copy\n",
            "  \"\"\"\n"
          ],
          "name": "stderr"
        }
      ]
    },
    {
      "cell_type": "markdown",
      "metadata": {
        "id": "kA1-NlfZfksV",
        "colab_type": "text"
      },
      "source": [
        "## IPW"
      ]
    },
    {
      "cell_type": "code",
      "metadata": {
        "id": "Axmpu_wj68qP",
        "colab_type": "code",
        "colab": {}
      },
      "source": [
        "from statsmodels.stats.weightstats import DescrStatsW\n",
        "\n",
        "def calculate_asam_weighted(data, treatment_column, columns, propensity_score):\n",
        "  data = pd.get_dummies(data[[treatment_column] + columns])\n",
        "  data['ps'] = propensity_score\n",
        "  data['weight'] = data[[treatment_column, 'ps']].apply(lambda x: 1 / x['ps'] if x[treatment_column] else 1 / (1 - x['ps']), axis=1)\n",
        "\n",
        "  asam_dict = dict()\n",
        "  for column_name, column_value in data.drop([treatment_column, 'ps', 'weight'], axis=1).iteritems():\n",
        "    treated_stats = DescrStatsW(column_value[data[treatment_column]], weights=data[data[treatment_column]]['weight'])\n",
        "    control_stats = DescrStatsW(column_value[~data[treatment_column]], weights=data[~data[treatment_column]]['weight'])\n",
        "    asam_dict[column_name] = abs(treated_stats.mean - control_stats.mean) / treated_stats.std\n",
        "\n",
        "  asam = pd.Series(asam_dict)\n",
        "  asam['distance'] = np.sqrt(np.sum(asam**2))  # 定義が分からん\n",
        "  return asam"
      ],
      "execution_count": 32,
      "outputs": []
    },
    {
      "cell_type": "code",
      "metadata": {
        "id": "3bxvkr_PCUDN",
        "colab_type": "code",
        "colab": {}
      },
      "source": [
        "ipw_adjusted_asam = calculate_asam_weighted(biased_data, 'treatment', ['recency', 'history', 'channel'], ipw_estimate.propensity_scores)"
      ],
      "execution_count": 33,
      "outputs": []
    },
    {
      "cell_type": "code",
      "metadata": {
        "id": "ge7CsxIM9h9G",
        "colab_type": "code",
        "colab": {
          "base_uri": "https://localhost:8080/",
          "height": 282
        },
        "outputId": "3f22569d-e74c-4ac5-e26c-fc2e00a5f3b1"
      },
      "source": [
        "%matplotlib inline\n",
        "import matplotlib.pyplot as plt\n",
        "\n",
        "plt.scatter(unadjusted_asam, unadjusted_asam.index, label='unadjusted')\n",
        "plt.scatter(matching_adjusted_asam, matching_adjusted_asam.index, label='adjusted(matching)')\n",
        "plt.scatter(ipw_adjusted_asam, ipw_adjusted_asam.index, label='adjusted(ipw)')\n",
        "plt.vlines(0.1, 0, len(unadjusted_asam)-1, linestyles='dashed')\n",
        "plt.legend()"
      ],
      "execution_count": 35,
      "outputs": [
        {
          "output_type": "execute_result",
          "data": {
            "text/plain": [
              "<matplotlib.legend.Legend at 0x7f4b83bb87f0>"
            ]
          },
          "metadata": {
            "tags": []
          },
          "execution_count": 35
        },
        {
          "output_type": "display_data",
          "data": {
            "image/png": "[encoded data removed]",
            "text/plain": [
              "<Figure size 432x288 with 1 Axes>"
            ]
          },
          "metadata": {
            "tags": [],
            "needs_background": "light"
          }
        }
      ]
    },
    {
      "cell_type": "markdown",
      "metadata": {
        "id": "qakBoq0PRdUm",
        "colab_type": "text"
      },
      "source": [
        "# メール施策"
      ]
    },
    {
      "cell_type": "markdown",
      "metadata": {
        "id": "KJowm2-OS15v",
        "colab_type": "text"
      },
      "source": [
        "## データの作成"
      ]
    },
    {
      "cell_type": "code",
      "metadata": {
        "id": "EGxsSgIMRY1E",
        "colab_type": "code",
        "colab": {}
      },
      "source": [
        "from sklearn.model_selection import train_test_split\n",
        "\n",
        "male_df_train, male_df_test = train_test_split(male_df, train_size=0.5, random_state=529)\n",
        "male_df_train = male_df_train[male_df_train['treatment'] == 0]"
      ],
      "execution_count": 111,
      "outputs": []
    },
    {
      "cell_type": "code",
      "metadata": {
        "id": "jrGy3tdIKPrZ",
        "colab_type": "code",
        "colab": {
          "base_uri": "https://localhost:8080/",
          "height": 105
        },
        "outputId": "d45fd805-60db-4a8e-eb8d-cbbcfd62c8f2"
      },
      "source": [
        "predict_model = logit('conversion ~ recency + history_segment + channel + zip_code', data=male_df_train).fit()\n",
        "pred_cv = predict_model.predict(male_df_test)\n",
        "pred_cv_rank = pd.Series(pred_cv, name='proba').rank(pct=True)  # パーセントランク\n",
        "mail_assign = np.random.binomial(n=1, p=pred_cv_rank)"
      ],
      "execution_count": 144,
      "outputs": [
        {
          "output_type": "stream",
          "text": [
            "Warning: Maximum number of iterations has been exceeded.\n",
            "         Current function value: 0.030664\n",
            "         Iterations: 35\n"
          ],
          "name": "stdout"
        },
        {
          "output_type": "stream",
          "text": [
            "/usr/local/lib/python3.6/dist-packages/statsmodels/base/model.py:512: ConvergenceWarning: Maximum Likelihood optimization failed to converge. Check mle_retvals\n",
            "  \"Check mle_retvals\", ConvergenceWarning)\n"
          ],
          "name": "stderr"
        }
      ]
    },
    {
      "cell_type": "code",
      "metadata": {
        "id": "qc4-rmHCWA8l",
        "colab_type": "code",
        "colab": {
          "base_uri": "https://localhost:8080/",
          "height": 228
        },
        "outputId": "3e021792-29d6-49f4-b0c6-a6f460dea61f"
      },
      "source": [
        "male_df_test['mail_assign'] = mail_assign\n",
        "male_df_test['ps'] = pred_cv_rank\n",
        "\n",
        "ml_male_df = (\n",
        "    male_df_test[\n",
        "                 ((male_df_test['treatment'] == 1) & (male_df_test['mail_assign'] == 1)) |\n",
        "                 ((male_df_test['treatment'] == 0) & (male_df_test['mail_assign'] == 0))\n",
        "                 ]\n",
        ")"
      ],
      "execution_count": 145,
      "outputs": [
        {
          "output_type": "stream",
          "text": [
            "/usr/local/lib/python3.6/dist-packages/ipykernel_launcher.py:1: SettingWithCopyWarning: \n",
            "A value is trying to be set on a copy of a slice from a DataFrame.\n",
            "Try using .loc[row_indexer,col_indexer] = value instead\n",
            "\n",
            "See the caveats in the documentation: https://pandas.pydata.org/pandas-docs/stable/user_guide/indexing.html#returning-a-view-versus-a-copy\n",
            "  \"\"\"Entry point for launching an IPython kernel.\n",
            "/usr/local/lib/python3.6/dist-packages/ipykernel_launcher.py:2: SettingWithCopyWarning: \n",
            "A value is trying to be set on a copy of a slice from a DataFrame.\n",
            "Try using .loc[row_indexer,col_indexer] = value instead\n",
            "\n",
            "See the caveats in the documentation: https://pandas.pydata.org/pandas-docs/stable/user_guide/indexing.html#returning-a-view-versus-a-copy\n",
            "  \n"
          ],
          "name": "stderr"
        }
      ]
    },
    {
      "cell_type": "code",
      "metadata": {
        "id": "JTUB5VpRp3Fq",
        "colab_type": "code",
        "colab": {
          "base_uri": "https://localhost:8080/",
          "height": 265
        },
        "outputId": "8b5ff6ae-030f-473e-ec20-a2c5d753f844"
      },
      "source": [
        "plt.hist(ml_male_df[ml_male_df['treatment']==1]['ps'], bins=20, alpha=0.5)\n",
        "plt.hist(ml_male_df[ml_male_df['treatment']==0]['ps'], bins=20, alpha=0.5)\n",
        "plt.show()"
      ],
      "execution_count": 165,
      "outputs": [
        {
          "output_type": "display_data",
          "data": {
            "image/png": "[encoded data removed]",
            "text/plain": [
              "<Figure size 432x288 with 1 Axes>"
            ]
          },
          "metadata": {
            "tags": [],
            "needs_background": "light"
          }
        }
      ]
    },
    {
      "cell_type": "markdown",
      "metadata": {
        "id": "sRQBycEgYyEK",
        "colab_type": "text"
      },
      "source": [
        "## RCTと平均の比較"
      ]
    },
    {
      "cell_type": "code",
      "metadata": {
        "id": "37QkUT3Ogm4-",
        "colab_type": "code",
        "colab": {
          "base_uri": "https://localhost:8080/",
          "height": 78
        },
        "outputId": "9a083c5c-d7b0-43f4-f3d0-745200c17a8c"
      },
      "source": [
        "from statsmodels.formula.api import ols\n",
        "\n",
        "rct_male = ols('spend ~ treatment', data=male_df_test).fit()\n",
        "rct_male.summary().tables[1]"
      ],
      "execution_count": 146,
      "outputs": [
        {
          "output_type": "execute_result",
          "data": {
            "text/html": [
              "<table class=\"simpletable\">\n",
              "<tr>\n",
              "      <td></td>         <th>coef</th>     <th>std err</th>      <th>t</th>      <th>P>|t|</th>  <th>[0.025</th>    <th>0.975]</th>  \n",
              "</tr>\n",
              "<tr>\n",
              "  <th>Intercept</th> <td>    0.6476</td> <td>    0.139</td> <td>    4.646</td> <td> 0.000</td> <td>    0.374</td> <td>    0.921</td>\n",
              "</tr>\n",
              "<tr>\n",
              "  <th>treatment</th> <td>    0.7798</td> <td>    0.197</td> <td>    3.949</td> <td> 0.000</td> <td>    0.393</td> <td>    1.167</td>\n",
              "</tr>\n",
              "</table>"
            ],
            "text/plain": [
              "<class 'statsmodels.iolib.table.SimpleTable'>"
            ]
          },
          "metadata": {
            "tags": []
          },
          "execution_count": 146
        }
      ]
    },
    {
      "cell_type": "code",
      "metadata": {
        "id": "RQdH8TIthMmU",
        "colab_type": "code",
        "colab": {
          "base_uri": "https://localhost:8080/",
          "height": 78
        },
        "outputId": "f21973ad-019a-47e5-e903-2920d89e0f26"
      },
      "source": [
        "ml_male_lm = ols('spend ~ treatment', data=ml_male_df).fit()\n",
        "ml_male_lm.summary().tables[1]"
      ],
      "execution_count": 147,
      "outputs": [
        {
          "output_type": "execute_result",
          "data": {
            "text/html": [
              "<table class=\"simpletable\">\n",
              "<tr>\n",
              "      <td></td>         <th>coef</th>     <th>std err</th>      <th>t</th>      <th>P>|t|</th>  <th>[0.025</th>    <th>0.975]</th>  \n",
              "</tr>\n",
              "<tr>\n",
              "  <th>Intercept</th> <td>    0.6011</td> <td>    0.219</td> <td>    2.744</td> <td> 0.006</td> <td>    0.172</td> <td>    1.031</td>\n",
              "</tr>\n",
              "<tr>\n",
              "  <th>treatment</th> <td>    1.1766</td> <td>    0.309</td> <td>    3.808</td> <td> 0.000</td> <td>    0.571</td> <td>    1.782</td>\n",
              "</tr>\n",
              "</table>"
            ],
            "text/plain": [
              "<class 'statsmodels.iolib.table.SimpleTable'>"
            ]
          },
          "metadata": {
            "tags": []
          },
          "execution_count": 147
        }
      ]
    },
    {
      "cell_type": "markdown",
      "metadata": {
        "id": "Jy5pxgrNhrbf",
        "colab_type": "text"
      },
      "source": [
        "## 傾向スコアを使った分析"
      ]
    },
    {
      "cell_type": "code",
      "metadata": {
        "id": "mU5lvM7biyqj",
        "colab_type": "code",
        "colab": {
          "base_uri": "https://localhost:8080/",
          "height": 184
        },
        "outputId": "51c78e19-fa96-421e-c597-594aa46b1d3f"
      },
      "source": [
        "# 傾向スコアマッチング\n",
        "d = get_matching_data(ml_male_df, 'treatment', ml_male_df['ps'])\n",
        "ols('spend ~ treatment', data=d).fit().summary().tables[1]"
      ],
      "execution_count": 155,
      "outputs": [
        {
          "output_type": "stream",
          "text": [
            "/usr/local/lib/python3.6/dist-packages/ipykernel_launcher.py:5: SettingWithCopyWarning: \n",
            "A value is trying to be set on a copy of a slice from a DataFrame.\n",
            "Try using .loc[row_indexer,col_indexer] = value instead\n",
            "\n",
            "See the caveats in the documentation: https://pandas.pydata.org/pandas-docs/stable/user_guide/indexing.html#returning-a-view-versus-a-copy\n",
            "  \"\"\"\n"
          ],
          "name": "stderr"
        },
        {
          "output_type": "execute_result",
          "data": {
            "text/html": [
              "<table class=\"simpletable\">\n",
              "<tr>\n",
              "      <td></td>         <th>coef</th>     <th>std err</th>      <th>t</th>      <th>P>|t|</th>  <th>[0.025</th>    <th>0.975]</th>  \n",
              "</tr>\n",
              "<tr>\n",
              "  <th>Intercept</th> <td>    0.2674</td> <td>    0.196</td> <td>    1.367</td> <td> 0.172</td> <td>   -0.116</td> <td>    0.651</td>\n",
              "</tr>\n",
              "<tr>\n",
              "  <th>treatment</th> <td>    1.5103</td> <td>    0.277</td> <td>    5.457</td> <td> 0.000</td> <td>    0.968</td> <td>    2.053</td>\n",
              "</tr>\n",
              "</table>"
            ],
            "text/plain": [
              "<class 'statsmodels.iolib.table.SimpleTable'>"
            ]
          },
          "metadata": {
            "tags": []
          },
          "execution_count": 155
        }
      ]
    },
    {
      "cell_type": "code",
      "metadata": {
        "id": "9x63jOuRyAHJ",
        "colab_type": "code",
        "colab": {
          "base_uri": "https://localhost:8080/",
          "height": 282
        },
        "outputId": "c31c1012-079b-4f9e-e43f-260bb0463182"
      },
      "source": [
        "d = get_matching_data(d, 'treatment', ml_male_df['ps'])\n",
        "unadjusted_asam = calculate_asam(d, 'treatment', ['recency', 'history_segment', 'channel', 'zip_code'])\n",
        "matching_adjusted_asam = calculate_asam(d, 'treatment', ['recency', 'history_segment', 'channel', 'zip_code'])\n",
        "\n",
        "plt.scatter(unadjusted_asam, unadjusted_asam.index, label='unadjusted')\n",
        "plt.scatter(matching_adjusted_asam, matching_adjusted_asam.index, label='adjusted(matching)')\n",
        "plt.vlines(0.1, 0, len(unadjusted_asam)-1, linestyles='dashed')\n",
        "plt.legend()"
      ],
      "execution_count": 177,
      "outputs": [
        {
          "output_type": "execute_result",
          "data": {
            "text/plain": [
              "<matplotlib.legend.Legend at 0x7f4b8186d160>"
            ]
          },
          "metadata": {
            "tags": []
          },
          "execution_count": 177
        },
        {
          "output_type": "display_data",
          "data": {
            "image/png": "[encoded data removed]",
            "text/plain": [
              "<Figure size 432x288 with 1 Axes>"
            ]
          },
          "metadata": {
            "tags": [],
            "needs_background": "light"
          }
        }
      ]
    },
    {
      "cell_type": "code",
      "metadata": {
        "id": "T5OKtZmxo1mA",
        "colab_type": "code",
        "colab": {
          "base_uri": "https://localhost:8080/",
          "height": 336
        },
        "outputId": "f8ffde88-a4d1-4f34-c984-e50f66b36cce"
      },
      "source": [
        "ml_male_df2 = ml_male_df.astype({\"treatment\":'bool'}, copy=False)  # treatmentをbool化\n",
        "\n",
        "model=CausalModel(\n",
        "    data = ml_male_df2,\n",
        "    treatment='treatment',\n",
        "    outcome='spend',\n",
        "    common_causes=['recency', 'history_segment', 'channel', 'zip_code'],\n",
        ")\n",
        "identified_estimand = model.identify_effect(proceed_when_unidentifiable=True)\n",
        "# 最近傍マッチング\n",
        "nearest_ate = model.estimate_effect(\n",
        "    identified_estimand, \n",
        "    method_name=\"backdoor.propensity_score_matching\",\n",
        "    target_units='ate',\n",
        ")\n",
        "nearest_att = model.estimate_effect(\n",
        "    identified_estimand, \n",
        "    method_name=\"backdoor.propensity_score_matching\",\n",
        "    target_units='att', \n",
        ")\n",
        "\n",
        "print(f'ATE: {nearest_ate.value}')  # ATEだが、定義のせいかずれが大きい\n",
        "print(f'ATT: {nearest_att.value}')"
      ],
      "execution_count": 178,
      "outputs": [
        {
          "output_type": "stream",
          "text": [
            "WARNING:dowhy.causal_model:Causal Graph not provided. DoWhy will construct a graph based on data inputs.\n",
            "INFO:dowhy.causal_graph:If this is observed data (not from a randomized experiment), there might always be missing confounders. Adding a node named \"Unobserved Confounders\" to reflect this.\n",
            "INFO:dowhy.causal_model:Model to find the causal effect of treatment ['treatment'] on outcome ['spend']\n",
            "INFO:dowhy.causal_identifier:Common causes of treatment and outcome:['history_segment', 'recency', 'zip_code', 'U', 'channel']\n",
            "WARNING:dowhy.causal_identifier:If this is observed data (not from a randomized experiment), there might always be missing confounders. Causal effect cannot be identified perfectly.\n",
            "INFO:dowhy.causal_identifier:Continuing by ignoring these unobserved confounders because proceed_when_unidentifiable flag is True.\n",
            "INFO:dowhy.causal_identifier:Instrumental variables for treatment and outcome:[]\n",
            "INFO:dowhy.causal_estimator:INFO: Using Propensity Score Matching Estimator\n",
            "INFO:dowhy.causal_estimator:b: spend~treatment+history_segment+recency+zip_code+channel\n",
            "/usr/local/lib/python3.6/dist-packages/sklearn/utils/validation.py:760: DataConversionWarning: A column-vector y was passed when a 1d array was expected. Please change the shape of y to (n_samples, ), for example using ravel().\n",
            "  y = column_or_1d(y, warn=True)\n",
            "INFO:dowhy.causal_estimator:INFO: Using Propensity Score Matching Estimator\n",
            "INFO:dowhy.causal_estimator:b: spend~treatment+history_segment+recency+zip_code+channel\n",
            "/usr/local/lib/python3.6/dist-packages/sklearn/utils/validation.py:760: DataConversionWarning: A column-vector y was passed when a 1d array was expected. Please change the shape of y to (n_samples, ), for example using ravel().\n",
            "  y = column_or_1d(y, warn=True)\n"
          ],
          "name": "stderr"
        },
        {
          "output_type": "stream",
          "text": [
            "ATE: 1.6406997384155448\n",
            "ATT: 1.4837005387330482\n"
          ],
          "name": "stdout"
        }
      ]
    },
    {
      "cell_type": "code",
      "metadata": {
        "id": "hn6Yyx8Gj_-R",
        "colab_type": "code",
        "colab": {
          "base_uri": "https://localhost:8080/",
          "height": 125
        },
        "outputId": "5009c4d8-9499-4a6c-fb46-2619fb6be51b"
      },
      "source": [
        "# IPW\n",
        "ipw_estimate = model.estimate_effect(\n",
        "    identified_estimand,\n",
        "    method_name=\"backdoor.propensity_score_weighting\",\n",
        "    target_units='ate',\n",
        ")\n",
        "\n",
        "print(f'ATE: {ipw_estimate.value}')  # RCTの結果に近い\n"
      ],
      "execution_count": 167,
      "outputs": [
        {
          "output_type": "stream",
          "text": [
            "INFO:dowhy.causal_estimator:INFO: Using Propensity Score Weighting Estimator\n",
            "INFO:dowhy.causal_estimator:b: spend~treatment+history_segment+recency+zip_code+channel\n",
            "/usr/local/lib/python3.6/dist-packages/sklearn/utils/validation.py:760: DataConversionWarning: A column-vector y was passed when a 1d array was expected. Please change the shape of y to (n_samples, ), for example using ravel().\n",
            "  y = column_or_1d(y, warn=True)\n"
          ],
          "name": "stderr"
        },
        {
          "output_type": "stream",
          "text": [
            "ATE: 0.7279281644598576\n"
          ],
          "name": "stdout"
        }
      ]
    },
    {
      "cell_type": "code",
      "metadata": {
        "id": "mQO_xFTCrjA2",
        "colab_type": "code",
        "colab": {}
      },
      "source": [
        ""
      ],
      "execution_count": null,
      "outputs": []
    }
  ]
}