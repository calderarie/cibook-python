{
  "nbformat": 4,
  "nbformat_minor": 0,
  "metadata": {
    "colab": {
      "name": "5章.ipynb",
      "provenance": []
    },
    "kernelspec": {
      "name": "python3",
      "display_name": "Python 3"
    }
  },
  "cells": [
    {
      "cell_type": "markdown",
      "metadata": {
        "id": "HDmqt6ZTPpVg",
        "colab_type": "text"
      },
      "source": [
        "# データの準備"
      ]
    },
    {
      "cell_type": "code",
      "metadata": {
        "id": "A_RXye-bP--W",
        "colab_type": "code",
        "colab": {
          "base_uri": "https://localhost:8080/",
          "height": 68
        },
        "outputId": "d85b6723-36d9-4c1d-9ce5-c1d8b1f3174e"
      },
      "source": [
        "!curl -O http://www.minethatdata.com/Kevin_Hillstrom_MineThatData_E-MailAnalytics_DataMiningChallenge_2008.03.20.csv"
      ],
      "execution_count": 2,
      "outputs": [
        {
          "output_type": "stream",
          "text": [
            "  % Total    % Received % Xferd  Average Speed   Time    Time     Time  Current\n",
            "                                 Dload  Upload   Total   Spent    Left  Speed\n",
            "100 3872k  100 3872k    0     0  1792k      0  0:00:02  0:00:02 --:--:-- 1791k\n"
          ],
          "name": "stdout"
        }
      ]
    },
    {
      "cell_type": "code",
      "metadata": {
        "id": "qoNvy4uaP1RV",
        "colab_type": "code",
        "colab": {}
      },
      "source": [
        "import numpy as np\n",
        "import pandas as pd\n",
        "\n",
        "email_data = pd.read_csv('./Kevin_Hillstrom_MineThatData_E-MailAnalytics_DataMiningChallenge_2008.03.20.csv')"
      ],
      "execution_count": 20,
      "outputs": []
    },
    {
      "cell_type": "code",
      "metadata": {
        "id": "zkCmm1IcQh7C",
        "colab_type": "code",
        "colab": {}
      },
      "source": [
        "male_data = email_data.copy()\n",
        "male_data = male_data[male_data['segment'].isin(['Mens E-Mail', 'No E-Mail'])]\n",
        "male_data['treatment'] = male_data['segment'].apply(lambda x: 1 if x == 'Mens E-Mail' else 0)\n",
        "male_data['history_log'] = np.log(male_data['history'])"
      ],
      "execution_count": 23,
      "outputs": []
    },
    {
      "cell_type": "code",
      "metadata": {
        "id": "TUMLj5MzS7Aj",
        "colab_type": "code",
        "colab": {}
      },
      "source": [
        "threshold_value = 5.5\n",
        "rdd_data = male_data.copy()\n",
        "rdd_data['history_log_grp'] = np.round(rdd_data['history_log'], 1)\n",
        "rdd_data = (\n",
        "    rdd_data[\n",
        "             ((rdd_data['history_log'] > threshold_value) & (rdd_data['segment'] == 'Mens E-Mail'))\n",
        "             | ((rdd_data['history_log'] <= threshold_value) & (rdd_data['segment'] == 'No E-Mail'))\n",
        "    ]\n",
        ")"
      ],
      "execution_count": 69,
      "outputs": []
    },
    {
      "cell_type": "code",
      "metadata": {
        "id": "wBi1oMJKR8oV",
        "colab_type": "code",
        "colab": {
          "base_uri": "https://localhost:8080/",
          "height": 269
        },
        "outputId": "396952e2-6967-4d02-a35b-2acb592284d6"
      },
      "source": [
        "%matplotlib inline\n",
        "import matplotlib.pyplot as plt\n",
        "\n",
        "plot_data = rdd_data.groupby(['history_log_grp']).agg(visit=('visit' , 'mean'), N=('visit', 'count')).reset_index()\n",
        "\n",
        "plt.plot(plot_data['history_log_grp'], plot_data['visit'], 'o')\n",
        "plt.xlim([3, 7.5])\n",
        "plt.ylim([0, 0.35])\n",
        "plt.show()"
      ],
      "execution_count": 70,
      "outputs": [
        {
          "output_type": "display_data",
          "data": {
            "image/png": "[encoded data removed]",
            "text/plain": [
              "<Figure size 432x288 with 1 Axes>"
            ]
          },
          "metadata": {
            "tags": [],
            "needs_background": "light"
          }
        }
      ]
    },
    {
      "cell_type": "markdown",
      "metadata": {
        "id": "KPH6lxrrZX2c",
        "colab_type": "text"
      },
      "source": [
        "# 集計による分析"
      ]
    },
    {
      "cell_type": "code",
      "metadata": {
        "id": "duH_70JBP5ze",
        "colab_type": "code",
        "colab": {}
      },
      "source": [
        "rdd_data_table = rdd_data.copy()\n",
        "rdd_data_table = rdd_data.groupby('treatment').agg(N=('visit', 'count'), visit_rate=('visit' , 'mean')).reset_index()"
      ],
      "execution_count": 74,
      "outputs": []
    },
    {
      "cell_type": "code",
      "metadata": {
        "id": "Slx_8Sx3Qc_1",
        "colab_type": "code",
        "colab": {
          "base_uri": "https://localhost:8080/",
          "height": 111
        },
        "outputId": "94f71597-9ded-4f8f-981f-50cb452d3d4b"
      },
      "source": [
        "rdd_data_table"
      ],
      "execution_count": 75,
      "outputs": [
        {
          "output_type": "execute_result",
          "data": {
            "text/html": [
              "<div>\n",
              "<style scoped>\n",
              "    .dataframe tbody tr th:only-of-type {\n",
              "        vertical-align: middle;\n",
              "    }\n",
              "\n",
              "    .dataframe tbody tr th {\n",
              "        vertical-align: top;\n",
              "    }\n",
              "\n",
              "    .dataframe thead th {\n",
              "        text-align: right;\n",
              "    }\n",
              "</style>\n",
              "<table border=\"1\" class=\"dataframe\">\n",
              "  <thead>\n",
              "    <tr style=\"text-align: right;\">\n",
              "      <th></th>\n",
              "      <th>treatment</th>\n",
              "      <th>N</th>\n",
              "      <th>visit_rate</th>\n",
              "    </tr>\n",
              "  </thead>\n",
              "  <tbody>\n",
              "    <tr>\n",
              "      <th>0</th>\n",
              "      <td>0</td>\n",
              "      <td>13926</td>\n",
              "      <td>0.090694</td>\n",
              "    </tr>\n",
              "    <tr>\n",
              "      <th>1</th>\n",
              "      <td>1</td>\n",
              "      <td>7366</td>\n",
              "      <td>0.224002</td>\n",
              "    </tr>\n",
              "  </tbody>\n",
              "</table>\n",
              "</div>"
            ],
            "text/plain": [
              "   treatment      N  visit_rate\n",
              "0          0  13926    0.090694\n",
              "1          1   7366    0.224002"
            ]
          },
          "metadata": {
            "tags": []
          },
          "execution_count": 75
        }
      ]
    },
    {
      "cell_type": "markdown",
      "metadata": {
        "id": "B7m4gG4nZ45c",
        "colab_type": "text"
      },
      "source": [
        "# 線形回帰による分析"
      ]
    },
    {
      "cell_type": "code",
      "metadata": {
        "id": "FtXq1JwqaCOs",
        "colab_type": "code",
        "colab": {
          "base_uri": "https://localhost:8080/",
          "height": 51
        },
        "outputId": "2a76cc85-1290-4677-be4b-0b4c00551769"
      },
      "source": [
        "from statsmodels.formula.api import ols\n",
        "\n",
        "rdd_lm_reg = ols('visit ~ treatment + history_log', data=rdd_data).fit()"
      ],
      "execution_count": 78,
      "outputs": [
        {
          "output_type": "stream",
          "text": [
            "/usr/local/lib/python3.6/dist-packages/statsmodels/tools/_testing.py:19: FutureWarning: pandas.util.testing is deprecated. Use the functions in the public API at pandas.testing instead.\n",
            "  import pandas.util.testing as tm\n"
          ],
          "name": "stderr"
        }
      ]
    },
    {
      "cell_type": "code",
      "metadata": {
        "id": "guGYzPLLaZnu",
        "colab_type": "code",
        "colab": {
          "base_uri": "https://localhost:8080/",
          "height": 103
        },
        "outputId": "288689d7-8251-4731-aea9-d528dda25ec2"
      },
      "source": [
        "rdd_lm_reg.summary().tables[1]"
      ],
      "execution_count": 80,
      "outputs": [
        {
          "output_type": "execute_result",
          "data": {
            "text/html": [
              "<table class=\"simpletable\">\n",
              "<tr>\n",
              "       <td></td>          <th>coef</th>     <th>std err</th>      <th>t</th>      <th>P>|t|</th>  <th>[0.025</th>    <th>0.975]</th>  \n",
              "</tr>\n",
              "<tr>\n",
              "  <th>Intercept</th>   <td>    0.0404</td> <td>    0.016</td> <td>    2.454</td> <td> 0.014</td> <td>    0.008</td> <td>    0.073</td>\n",
              "</tr>\n",
              "<tr>\n",
              "  <th>treatment</th>   <td>    0.1137</td> <td>    0.008</td> <td>   14.240</td> <td> 0.000</td> <td>    0.098</td> <td>    0.129</td>\n",
              "</tr>\n",
              "<tr>\n",
              "  <th>history_log</th> <td>    0.0114</td> <td>    0.004</td> <td>    3.103</td> <td> 0.002</td> <td>    0.004</td> <td>    0.019</td>\n",
              "</tr>\n",
              "</table>"
            ],
            "text/plain": [
              "<class 'statsmodels.iolib.table.SimpleTable'>"
            ]
          },
          "metadata": {
            "tags": []
          },
          "execution_count": 80
        }
      ]
    },
    {
      "cell_type": "markdown",
      "metadata": {
        "id": "Wrs-KB0PadOO",
        "colab_type": "text"
      },
      "source": [
        "# 非線形回帰による分析"
      ]
    },
    {
      "cell_type": "markdown",
      "metadata": {
        "id": "BirSjvo_n_g-",
        "colab_type": "text"
      },
      "source": [
        "$$ Y = \\beta_0 + \\beta_1 f_1(X-c) + \\beta_2 f_2(X-c) + \\rho Z + \\epsilon $$"
      ]
    },
    {
      "cell_type": "code",
      "metadata": {
        "id": "Yqc6-qY_hBLC",
        "colab_type": "code",
        "colab": {}
      },
      "source": [
        "from sklearn.preprocessing import PolynomialFeatures\n",
        "\n",
        "nonlinear_rdd_data = rdd_data.copy()[['visit', 'treatment', 'history_log']].reset_index()\n",
        "\n",
        "cutpoint = 5.5\n",
        "degree = 4\n",
        "X = nonlinear_rdd_data[['history_log']]\n",
        "X = X - cutpoint\n",
        "X_poly = PolynomialFeatures(degree=degree, include_bias=False).fit_transform(X)\n",
        "X_poly = pd.DataFrame(X_poly, columns=[f'X{i+1}' for i in range(X_poly.shape[1])])\n",
        "\n",
        "nonlinear_rdd_data = pd.concat([nonlinear_rdd_data, X_poly], axis=1)"
      ],
      "execution_count": 123,
      "outputs": []
    },
    {
      "cell_type": "code",
      "metadata": {
        "id": "t18RAR8hhU5a",
        "colab_type": "code",
        "colab": {
          "base_uri": "https://localhost:8080/",
          "height": 250
        },
        "outputId": "b64f3629-0421-49fc-f0f7-ce369099b952"
      },
      "source": [
        "nonlinear_rdd_ord4 = ols('visit ~ treatment + X1 + X2 + X3 + X4 + treatment:X1 + treatment:X2 + treatment:X3 + treatment:X4', data=nonlinear_rdd_data).fit()\n",
        "nonlinear_rdd_ord4.summary().tables[1]"
      ],
      "execution_count": 127,
      "outputs": [
        {
          "output_type": "execute_result",
          "data": {
            "text/html": [
              "<table class=\"simpletable\">\n",
              "<tr>\n",
              "        <td></td>          <th>coef</th>     <th>std err</th>      <th>t</th>      <th>P>|t|</th>  <th>[0.025</th>    <th>0.975]</th>  \n",
              "</tr>\n",
              "<tr>\n",
              "  <th>Intercept</th>    <td>    0.1327</td> <td>    0.014</td> <td>    9.654</td> <td> 0.000</td> <td>    0.106</td> <td>    0.160</td>\n",
              "</tr>\n",
              "<tr>\n",
              "  <th>treatment</th>    <td>    0.0741</td> <td>    0.020</td> <td>    3.774</td> <td> 0.000</td> <td>    0.036</td> <td>    0.113</td>\n",
              "</tr>\n",
              "<tr>\n",
              "  <th>X1</th>           <td>    0.1522</td> <td>    0.092</td> <td>    1.661</td> <td> 0.097</td> <td>   -0.027</td> <td>    0.332</td>\n",
              "</tr>\n",
              "<tr>\n",
              "  <th>X2</th>           <td>    0.1877</td> <td>    0.178</td> <td>    1.056</td> <td> 0.291</td> <td>   -0.161</td> <td>    0.536</td>\n",
              "</tr>\n",
              "<tr>\n",
              "  <th>X3</th>           <td>    0.1068</td> <td>    0.126</td> <td>    0.847</td> <td> 0.397</td> <td>   -0.140</td> <td>    0.354</td>\n",
              "</tr>\n",
              "<tr>\n",
              "  <th>X4</th>           <td>    0.0224</td> <td>    0.029</td> <td>    0.769</td> <td> 0.442</td> <td>   -0.035</td> <td>    0.079</td>\n",
              "</tr>\n",
              "<tr>\n",
              "  <th>treatment:X1</th> <td>   -0.0406</td> <td>    0.135</td> <td>   -0.300</td> <td> 0.764</td> <td>   -0.306</td> <td>    0.225</td>\n",
              "</tr>\n",
              "<tr>\n",
              "  <th>treatment:X2</th> <td>   -0.3928</td> <td>    0.271</td> <td>   -1.449</td> <td> 0.147</td> <td>   -0.924</td> <td>    0.139</td>\n",
              "</tr>\n",
              "<tr>\n",
              "  <th>treatment:X3</th> <td>    0.0278</td> <td>    0.198</td> <td>    0.140</td> <td> 0.888</td> <td>   -0.360</td> <td>    0.415</td>\n",
              "</tr>\n",
              "<tr>\n",
              "  <th>treatment:X4</th> <td>   -0.0484</td> <td>    0.047</td> <td>   -1.032</td> <td> 0.302</td> <td>   -0.140</td> <td>    0.044</td>\n",
              "</tr>\n",
              "</table>"
            ],
            "text/plain": [
              "<class 'statsmodels.iolib.table.SimpleTable'>"
            ]
          },
          "metadata": {
            "tags": []
          },
          "execution_count": 127
        }
      ]
    },
    {
      "cell_type": "markdown",
      "metadata": {
        "id": "X7ERR4WmhosH",
        "colab_type": "text"
      },
      "source": [
        "# nonparametric RDD"
      ]
    },
    {
      "cell_type": "markdown",
      "metadata": {
        "id": "CD7jeLFcq3uo",
        "colab_type": "text"
      },
      "source": [
        "## 利用するデータの範囲と推定結果"
      ]
    },
    {
      "cell_type": "code",
      "metadata": {
        "id": "XOASCtFlqyhi",
        "colab_type": "code",
        "colab": {}
      },
      "source": [
        "cutpoint = 5.5\n",
        "\n",
        "a = rdd_data.copy()\n",
        "\n",
        "a['bound'] = np.abs(rdd_data['history_log'] - cutpoint)"
      ],
      "execution_count": 136,
      "outputs": []
    },
    {
      "cell_type": "code",
      "metadata": {
        "id": "tGOEjY3vrVNF",
        "colab_type": "code",
        "colab": {
          "base_uri": "https://localhost:8080/",
          "height": 609
        },
        "outputId": "9e214f7d-b79d-4c61-b750-ff625e798e0f"
      },
      "source": [
        "a"
      ],
      "execution_count": 137,
      "outputs": [
        {
          "output_type": "execute_result",
          "data": {
            "text/html": [
              "<div>\n",
              "<style scoped>\n",
              "    .dataframe tbody tr th:only-of-type {\n",
              "        vertical-align: middle;\n",
              "    }\n",
              "\n",
              "    .dataframe tbody tr th {\n",
              "        vertical-align: top;\n",
              "    }\n",
              "\n",
              "    .dataframe thead th {\n",
              "        text-align: right;\n",
              "    }\n",
              "</style>\n",
              "<table border=\"1\" class=\"dataframe\">\n",
              "  <thead>\n",
              "    <tr style=\"text-align: right;\">\n",
              "      <th></th>\n",
              "      <th>recency</th>\n",
              "      <th>history_segment</th>\n",
              "      <th>history</th>\n",
              "      <th>mens</th>\n",
              "      <th>womens</th>\n",
              "      <th>zip_code</th>\n",
              "      <th>newbie</th>\n",
              "      <th>channel</th>\n",
              "      <th>segment</th>\n",
              "      <th>visit</th>\n",
              "      <th>conversion</th>\n",
              "      <th>spend</th>\n",
              "      <th>treatment</th>\n",
              "      <th>history_log</th>\n",
              "      <th>history_log_grp</th>\n",
              "      <th>bound</th>\n",
              "    </tr>\n",
              "  </thead>\n",
              "  <tbody>\n",
              "    <tr>\n",
              "      <th>3</th>\n",
              "      <td>9</td>\n",
              "      <td>5) $500 - $750</td>\n",
              "      <td>675.83</td>\n",
              "      <td>1</td>\n",
              "      <td>0</td>\n",
              "      <td>Rural</td>\n",
              "      <td>1</td>\n",
              "      <td>Web</td>\n",
              "      <td>Mens E-Mail</td>\n",
              "      <td>0</td>\n",
              "      <td>0</td>\n",
              "      <td>0.0</td>\n",
              "      <td>1</td>\n",
              "      <td>6.515942</td>\n",
              "      <td>6.5</td>\n",
              "      <td>1.015942</td>\n",
              "    </tr>\n",
              "    <tr>\n",
              "      <th>8</th>\n",
              "      <td>9</td>\n",
              "      <td>5) $500 - $750</td>\n",
              "      <td>675.07</td>\n",
              "      <td>1</td>\n",
              "      <td>1</td>\n",
              "      <td>Rural</td>\n",
              "      <td>1</td>\n",
              "      <td>Phone</td>\n",
              "      <td>Mens E-Mail</td>\n",
              "      <td>0</td>\n",
              "      <td>0</td>\n",
              "      <td>0.0</td>\n",
              "      <td>1</td>\n",
              "      <td>6.514816</td>\n",
              "      <td>6.5</td>\n",
              "      <td>1.014816</td>\n",
              "    </tr>\n",
              "    <tr>\n",
              "      <th>14</th>\n",
              "      <td>4</td>\n",
              "      <td>3) $200 - $350</td>\n",
              "      <td>241.42</td>\n",
              "      <td>0</td>\n",
              "      <td>1</td>\n",
              "      <td>Rural</td>\n",
              "      <td>1</td>\n",
              "      <td>Multichannel</td>\n",
              "      <td>No E-Mail</td>\n",
              "      <td>0</td>\n",
              "      <td>0</td>\n",
              "      <td>0.0</td>\n",
              "      <td>0</td>\n",
              "      <td>5.486538</td>\n",
              "      <td>5.5</td>\n",
              "      <td>0.013462</td>\n",
              "    </tr>\n",
              "    <tr>\n",
              "      <th>15</th>\n",
              "      <td>3</td>\n",
              "      <td>1) $0 - $100</td>\n",
              "      <td>58.13</td>\n",
              "      <td>1</td>\n",
              "      <td>0</td>\n",
              "      <td>Urban</td>\n",
              "      <td>1</td>\n",
              "      <td>Web</td>\n",
              "      <td>No E-Mail</td>\n",
              "      <td>1</td>\n",
              "      <td>0</td>\n",
              "      <td>0.0</td>\n",
              "      <td>0</td>\n",
              "      <td>4.062682</td>\n",
              "      <td>4.1</td>\n",
              "      <td>1.437318</td>\n",
              "    </tr>\n",
              "    <tr>\n",
              "      <th>19</th>\n",
              "      <td>5</td>\n",
              "      <td>6) $750 - $1,000</td>\n",
              "      <td>828.42</td>\n",
              "      <td>1</td>\n",
              "      <td>0</td>\n",
              "      <td>Surburban</td>\n",
              "      <td>1</td>\n",
              "      <td>Multichannel</td>\n",
              "      <td>Mens E-Mail</td>\n",
              "      <td>0</td>\n",
              "      <td>0</td>\n",
              "      <td>0.0</td>\n",
              "      <td>1</td>\n",
              "      <td>6.719520</td>\n",
              "      <td>6.7</td>\n",
              "      <td>1.219520</td>\n",
              "    </tr>\n",
              "    <tr>\n",
              "      <th>...</th>\n",
              "      <td>...</td>\n",
              "      <td>...</td>\n",
              "      <td>...</td>\n",
              "      <td>...</td>\n",
              "      <td>...</td>\n",
              "      <td>...</td>\n",
              "      <td>...</td>\n",
              "      <td>...</td>\n",
              "      <td>...</td>\n",
              "      <td>...</td>\n",
              "      <td>...</td>\n",
              "      <td>...</td>\n",
              "      <td>...</td>\n",
              "      <td>...</td>\n",
              "      <td>...</td>\n",
              "      <td>...</td>\n",
              "    </tr>\n",
              "    <tr>\n",
              "      <th>63983</th>\n",
              "      <td>2</td>\n",
              "      <td>1) $0 - $100</td>\n",
              "      <td>83.03</td>\n",
              "      <td>0</td>\n",
              "      <td>1</td>\n",
              "      <td>Urban</td>\n",
              "      <td>0</td>\n",
              "      <td>Phone</td>\n",
              "      <td>No E-Mail</td>\n",
              "      <td>0</td>\n",
              "      <td>0</td>\n",
              "      <td>0.0</td>\n",
              "      <td>0</td>\n",
              "      <td>4.419202</td>\n",
              "      <td>4.4</td>\n",
              "      <td>1.080798</td>\n",
              "    </tr>\n",
              "    <tr>\n",
              "      <th>63987</th>\n",
              "      <td>1</td>\n",
              "      <td>1) $0 - $100</td>\n",
              "      <td>79.70</td>\n",
              "      <td>1</td>\n",
              "      <td>0</td>\n",
              "      <td>Surburban</td>\n",
              "      <td>1</td>\n",
              "      <td>Web</td>\n",
              "      <td>No E-Mail</td>\n",
              "      <td>0</td>\n",
              "      <td>0</td>\n",
              "      <td>0.0</td>\n",
              "      <td>0</td>\n",
              "      <td>4.378270</td>\n",
              "      <td>4.4</td>\n",
              "      <td>1.121730</td>\n",
              "    </tr>\n",
              "    <tr>\n",
              "      <th>63990</th>\n",
              "      <td>6</td>\n",
              "      <td>1) $0 - $100</td>\n",
              "      <td>80.02</td>\n",
              "      <td>0</td>\n",
              "      <td>1</td>\n",
              "      <td>Surburban</td>\n",
              "      <td>0</td>\n",
              "      <td>Phone</td>\n",
              "      <td>No E-Mail</td>\n",
              "      <td>0</td>\n",
              "      <td>0</td>\n",
              "      <td>0.0</td>\n",
              "      <td>0</td>\n",
              "      <td>4.382277</td>\n",
              "      <td>4.4</td>\n",
              "      <td>1.117723</td>\n",
              "    </tr>\n",
              "    <tr>\n",
              "      <th>63992</th>\n",
              "      <td>1</td>\n",
              "      <td>5) $500 - $750</td>\n",
              "      <td>519.69</td>\n",
              "      <td>1</td>\n",
              "      <td>1</td>\n",
              "      <td>Urban</td>\n",
              "      <td>1</td>\n",
              "      <td>Phone</td>\n",
              "      <td>Mens E-Mail</td>\n",
              "      <td>0</td>\n",
              "      <td>0</td>\n",
              "      <td>0.0</td>\n",
              "      <td>1</td>\n",
              "      <td>6.253232</td>\n",
              "      <td>6.3</td>\n",
              "      <td>0.753232</td>\n",
              "    </tr>\n",
              "    <tr>\n",
              "      <th>63999</th>\n",
              "      <td>1</td>\n",
              "      <td>4) $350 - $500</td>\n",
              "      <td>472.82</td>\n",
              "      <td>0</td>\n",
              "      <td>1</td>\n",
              "      <td>Surburban</td>\n",
              "      <td>0</td>\n",
              "      <td>Web</td>\n",
              "      <td>Mens E-Mail</td>\n",
              "      <td>0</td>\n",
              "      <td>0</td>\n",
              "      <td>0.0</td>\n",
              "      <td>1</td>\n",
              "      <td>6.158715</td>\n",
              "      <td>6.2</td>\n",
              "      <td>0.658715</td>\n",
              "    </tr>\n",
              "  </tbody>\n",
              "</table>\n",
              "<p>21292 rows × 16 columns</p>\n",
              "</div>"
            ],
            "text/plain": [
              "       recency   history_segment  ...  history_log_grp     bound\n",
              "3            9    5) $500 - $750  ...              6.5  1.015942\n",
              "8            9    5) $500 - $750  ...              6.5  1.014816\n",
              "14           4    3) $200 - $350  ...              5.5  0.013462\n",
              "15           3      1) $0 - $100  ...              4.1  1.437318\n",
              "19           5  6) $750 - $1,000  ...              6.7  1.219520\n",
              "...        ...               ...  ...              ...       ...\n",
              "63983        2      1) $0 - $100  ...              4.4  1.080798\n",
              "63987        1      1) $0 - $100  ...              4.4  1.121730\n",
              "63990        6      1) $0 - $100  ...              4.4  1.117723\n",
              "63992        1    5) $500 - $750  ...              6.3  0.753232\n",
              "63999        1    4) $350 - $500  ...              6.2  0.658715\n",
              "\n",
              "[21292 rows x 16 columns]"
            ]
          },
          "metadata": {
            "tags": []
          },
          "execution_count": 137
        }
      ]
    },
    {
      "cell_type": "markdown",
      "metadata": {
        "id": "rbbETqDYqzy1",
        "colab_type": "text"
      },
      "source": [
        "## 実装"
      ]
    },
    {
      "cell_type": "code",
      "metadata": {
        "id": "ciHjPdCjph0D",
        "colab_type": "code",
        "colab": {}
      },
      "source": [
        "cutpoint = 5.5\n",
        "bound = 0.1\n",
        "\n",
        "bounded_data = rdd_data[(rdd_data['history_log'] >= cutpoint - bound) & (rdd_data['history_log'] <= cutpoint + bound)]\n",
        "rdd_result = ols('visit ~ treatment + history_log', data=bounded_data).fit()"
      ],
      "execution_count": 154,
      "outputs": []
    },
    {
      "cell_type": "code",
      "metadata": {
        "id": "kIo2Ir6nqEby",
        "colab_type": "code",
        "colab": {
          "base_uri": "https://localhost:8080/",
          "height": 103
        },
        "outputId": "ada391ef-10a4-4f0c-bf47-8a35c561820a"
      },
      "source": [
        "rdd_result.summary().tables[1]"
      ],
      "execution_count": 155,
      "outputs": [
        {
          "output_type": "execute_result",
          "data": {
            "text/html": [
              "<table class=\"simpletable\">\n",
              "<tr>\n",
              "       <td></td>          <th>coef</th>     <th>std err</th>      <th>t</th>      <th>P>|t|</th>  <th>[0.025</th>    <th>0.975]</th>  \n",
              "</tr>\n",
              "<tr>\n",
              "  <th>Intercept</th>   <td>   -1.2050</td> <td>    1.836</td> <td>   -0.656</td> <td> 0.512</td> <td>   -4.807</td> <td>    2.397</td>\n",
              "</tr>\n",
              "<tr>\n",
              "  <th>treatment</th>   <td>    0.0715</td> <td>    0.040</td> <td>    1.807</td> <td> 0.071</td> <td>   -0.006</td> <td>    0.149</td>\n",
              "</tr>\n",
              "<tr>\n",
              "  <th>history_log</th> <td>    0.2434</td> <td>    0.337</td> <td>    0.722</td> <td> 0.470</td> <td>   -0.418</td> <td>    0.905</td>\n",
              "</tr>\n",
              "</table>"
            ],
            "text/plain": [
              "<class 'statsmodels.iolib.table.SimpleTable'>"
            ]
          },
          "metadata": {
            "tags": []
          },
          "execution_count": 155
        }
      ]
    },
    {
      "cell_type": "code",
      "metadata": {
        "id": "boLzurVlqlZw",
        "colab_type": "code",
        "colab": {}
      },
      "source": [
        ""
      ],
      "execution_count": null,
      "outputs": []
    }
  ]
}