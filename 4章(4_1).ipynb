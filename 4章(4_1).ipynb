{
  "nbformat": 4,
  "nbformat_minor": 0,
  "metadata": {
    "colab": {
      "name": "4章(4.1).ipynb",
      "provenance": []
    },
    "kernelspec": {
      "name": "python3",
      "display_name": "Python 3"
    }
  },
  "cells": [
    {
      "cell_type": "markdown",
      "metadata": {
        "id": "9BgPVmUnZ7EF",
        "colab_type": "text"
      },
      "source": [
        "# データの作成\n",
        "http://www.ph.ucla.edu/epi/snow/table12a.html"
      ]
    },
    {
      "cell_type": "code",
      "metadata": {
        "id": "fl0l3NPaYOtL",
        "colab_type": "code",
        "colab": {}
      },
      "source": [
        "import pandas as pd\n",
        "\n",
        "\n",
        "# 1849年におけるエリア毎のコレラによる死者数\n",
        "# Southwark and Vauxhall Company\n",
        "sv1849 = [283,157,192,249,259,226,352,97,111,8,235,92]\n",
        "# Lambeth Company & Southwark and Vauxhall Company\n",
        "lsv1849 = [256,267,312,257,318,446,143,193,243,215,544,187,153,81,113,176]\n",
        "\n",
        "# 1849年におけるエリア毎のコレラによる死者数\n",
        "# Southwark and Vauxhall Company\n",
        "sv1854 = [371, 161, 148, 362, 244, 237, 282, 59, 171, 9, 240, 174]\n",
        "# Lambeth Company & Southwark and Vauxhall Company\n",
        "lsv1854 = [113,174,270,93,210,388,92,58,117,49,193,303,142,48,165,132]\n",
        "\n",
        "# コレラの死者数を会社ごとにまとめる\n",
        "sv_death = sv1849 + sv1854\n",
        "lsv_death = lsv1849 + lsv1854\n",
        "\n",
        "# どのデータがどのエリアのものか\n",
        "sv_area = [f'sv_{i}' for i in range(1, len(sv1849)+1)] + [f'sv_{i}' for i in range(1, len(sv1854)+1)]\n",
        "lsv_area = [f'lsv_{i}' for i in range(1, len(lsv1849)+1)] + [f'lsv_{i}' for i in range(1, len(lsv1854)+1)]\n",
        "\n",
        "# どのデータがどの年のものか\n",
        "sv_year = [1849 for i in range(len(sv1849))] + [1854 for i in range(len(sv1854))]\n",
        "lsv_year = [1849 for i in range(len(lsv1849))] + [1854 for i in range(len(lsv1854))]\n",
        "\n",
        "# Southwark & Vauxhallのデータフレームを作成\n",
        "sv = pd.DataFrame({\n",
        "    'area': sv_area,\n",
        "    'year': sv_year,\n",
        "    'death': sv_death,\n",
        "    'LSV': 0,\n",
        "    'company': 'Southwark and Vauxhall'\n",
        "})\n",
        "# Lambeth & Southwark and Vauxhallのデータフレームを作成\n",
        "lsv = pd.DataFrame({\n",
        "    'area': lsv_area,\n",
        "    'year': lsv_year,\n",
        "    'death': lsv_death,\n",
        "    'LSV': 1,\n",
        "    'company': 'Lambeth & Southwark and Vauxhall'\n",
        "})\n",
        "\n",
        "# 地域・年別のデータセットの作成\n",
        "JS_df = pd.concat([sv, lsv], ignore_index=True)\n",
        "\n",
        "## 会社別のデータセットを作成\n",
        "JS_sum = JS_df.groupby(['company', 'LSV', 'year'], as_index=False).death.sum()"
      ],
      "execution_count": 1,
      "outputs": []
    },
    {
      "cell_type": "markdown",
      "metadata": {
        "id": "oRhL1KOHZp3U",
        "colab_type": "text"
      },
      "source": [
        "# 集計による推定"
      ]
    },
    {
      "cell_type": "code",
      "metadata": {
        "id": "UH-ods0da1tm",
        "colab_type": "code",
        "colab": {
          "base_uri": "https://localhost:8080/",
          "height": 111
        },
        "outputId": "f6170afb-9481-4888-ae52-4936c8017d3a"
      },
      "source": [
        "JS_grp_summary = (\n",
        "    JS_sum.pivot_table(\n",
        "        index=['company', 'LSV'], columns=['year'], values='death',  aggfunc='sum',\n",
        "        )\n",
        "    .add_prefix('year_').reset_index()\n",
        ")\n",
        "JS_grp_summary['gap'] = JS_grp_summary['year_1854'] - JS_grp_summary['year_1849']\n",
        "JS_grp_summary['gap_rate'] = JS_grp_summary['year_1854'] / JS_grp_summary['year_1849'] - 1\n",
        "JS_grp_summary"
      ],
      "execution_count": 2,
      "outputs": [
        {
          "output_type": "execute_result",
          "data": {
            "text/html": [
              "<div>\n",
              "<style scoped>\n",
              "    .dataframe tbody tr th:only-of-type {\n",
              "        vertical-align: middle;\n",
              "    }\n",
              "\n",
              "    .dataframe tbody tr th {\n",
              "        vertical-align: top;\n",
              "    }\n",
              "\n",
              "    .dataframe thead th {\n",
              "        text-align: right;\n",
              "    }\n",
              "</style>\n",
              "<table border=\"1\" class=\"dataframe\">\n",
              "  <thead>\n",
              "    <tr style=\"text-align: right;\">\n",
              "      <th>year</th>\n",
              "      <th>company</th>\n",
              "      <th>LSV</th>\n",
              "      <th>year_1849</th>\n",
              "      <th>year_1854</th>\n",
              "      <th>gap</th>\n",
              "      <th>gap_rate</th>\n",
              "    </tr>\n",
              "  </thead>\n",
              "  <tbody>\n",
              "    <tr>\n",
              "      <th>0</th>\n",
              "      <td>Lambeth &amp; Southwark and Vauxhall</td>\n",
              "      <td>1</td>\n",
              "      <td>3904</td>\n",
              "      <td>2547</td>\n",
              "      <td>-1357</td>\n",
              "      <td>-0.347592</td>\n",
              "    </tr>\n",
              "    <tr>\n",
              "      <th>1</th>\n",
              "      <td>Southwark and Vauxhall</td>\n",
              "      <td>0</td>\n",
              "      <td>2261</td>\n",
              "      <td>2458</td>\n",
              "      <td>197</td>\n",
              "      <td>0.087130</td>\n",
              "    </tr>\n",
              "  </tbody>\n",
              "</table>\n",
              "</div>"
            ],
            "text/plain": [
              "year                           company  LSV  ...   gap  gap_rate\n",
              "0     Lambeth & Southwark and Vauxhall    1  ... -1357 -0.347592\n",
              "1               Southwark and Vauxhall    0  ...   197  0.087130\n",
              "\n",
              "[2 rows x 6 columns]"
            ]
          },
          "metadata": {
            "tags": []
          },
          "execution_count": 2
        }
      ]
    },
    {
      "cell_type": "code",
      "metadata": {
        "id": "iZ-dGV5nZveX",
        "colab_type": "code",
        "colab": {
          "base_uri": "https://localhost:8080/",
          "height": 111
        },
        "outputId": "0de1e89a-0238-4314-edf1-d5fbbece7085"
      },
      "source": [
        "import numpy as np\n",
        "\n",
        "JS_grp_summary_ln = (\n",
        "    JS_sum.pivot_table(\n",
        "        index=['company', 'LSV'], columns=['year'], values='death', aggfunc=np.log\n",
        "    )\n",
        "    .add_prefix('year_').reset_index()\n",
        ")\n",
        "\n",
        "JS_grp_summary_ln['gap'] = JS_grp_summary_ln['year_1854'] - JS_grp_summary_ln['year_1849']\n",
        "JS_grp_summary_ln"
      ],
      "execution_count": 3,
      "outputs": [
        {
          "output_type": "execute_result",
          "data": {
            "text/html": [
              "<div>\n",
              "<style scoped>\n",
              "    .dataframe tbody tr th:only-of-type {\n",
              "        vertical-align: middle;\n",
              "    }\n",
              "\n",
              "    .dataframe tbody tr th {\n",
              "        vertical-align: top;\n",
              "    }\n",
              "\n",
              "    .dataframe thead th {\n",
              "        text-align: right;\n",
              "    }\n",
              "</style>\n",
              "<table border=\"1\" class=\"dataframe\">\n",
              "  <thead>\n",
              "    <tr style=\"text-align: right;\">\n",
              "      <th>year</th>\n",
              "      <th>company</th>\n",
              "      <th>LSV</th>\n",
              "      <th>year_1849</th>\n",
              "      <th>year_1854</th>\n",
              "      <th>gap</th>\n",
              "    </tr>\n",
              "  </thead>\n",
              "  <tbody>\n",
              "    <tr>\n",
              "      <th>0</th>\n",
              "      <td>Lambeth &amp; Southwark and Vauxhall</td>\n",
              "      <td>1</td>\n",
              "      <td>8.269757</td>\n",
              "      <td>7.842671</td>\n",
              "      <td>-0.427085</td>\n",
              "    </tr>\n",
              "    <tr>\n",
              "      <th>1</th>\n",
              "      <td>Southwark and Vauxhall</td>\n",
              "      <td>0</td>\n",
              "      <td>7.723562</td>\n",
              "      <td>7.807103</td>\n",
              "      <td>0.083541</td>\n",
              "    </tr>\n",
              "  </tbody>\n",
              "</table>\n",
              "</div>"
            ],
            "text/plain": [
              "year                           company  LSV  year_1849  year_1854       gap\n",
              "0     Lambeth & Southwark and Vauxhall    1   8.269757   7.842671 -0.427085\n",
              "1               Southwark and Vauxhall    0   7.723562   7.807103  0.083541"
            ]
          },
          "metadata": {
            "tags": []
          },
          "execution_count": 3
        }
      ]
    },
    {
      "cell_type": "code",
      "metadata": {
        "id": "VOjY5bVMa0pW",
        "colab_type": "code",
        "colab": {
          "base_uri": "https://localhost:8080/",
          "height": 111
        },
        "outputId": "d8f61a25-8d1e-497a-a7b1-f94930ca19e7"
      },
      "source": [
        "# 可視化\n",
        "%matplotlib inline\n",
        "import matplotlib.pyplot as plt\n",
        "\n",
        "JS_grp_summary"
      ],
      "execution_count": 4,
      "outputs": [
        {
          "output_type": "execute_result",
          "data": {
            "text/html": [
              "<div>\n",
              "<style scoped>\n",
              "    .dataframe tbody tr th:only-of-type {\n",
              "        vertical-align: middle;\n",
              "    }\n",
              "\n",
              "    .dataframe tbody tr th {\n",
              "        vertical-align: top;\n",
              "    }\n",
              "\n",
              "    .dataframe thead th {\n",
              "        text-align: right;\n",
              "    }\n",
              "</style>\n",
              "<table border=\"1\" class=\"dataframe\">\n",
              "  <thead>\n",
              "    <tr style=\"text-align: right;\">\n",
              "      <th>year</th>\n",
              "      <th>company</th>\n",
              "      <th>LSV</th>\n",
              "      <th>year_1849</th>\n",
              "      <th>year_1854</th>\n",
              "      <th>gap</th>\n",
              "      <th>gap_rate</th>\n",
              "    </tr>\n",
              "  </thead>\n",
              "  <tbody>\n",
              "    <tr>\n",
              "      <th>0</th>\n",
              "      <td>Lambeth &amp; Southwark and Vauxhall</td>\n",
              "      <td>1</td>\n",
              "      <td>3904</td>\n",
              "      <td>2547</td>\n",
              "      <td>-1357</td>\n",
              "      <td>-0.347592</td>\n",
              "    </tr>\n",
              "    <tr>\n",
              "      <th>1</th>\n",
              "      <td>Southwark and Vauxhall</td>\n",
              "      <td>0</td>\n",
              "      <td>2261</td>\n",
              "      <td>2458</td>\n",
              "      <td>197</td>\n",
              "      <td>0.087130</td>\n",
              "    </tr>\n",
              "  </tbody>\n",
              "</table>\n",
              "</div>"
            ],
            "text/plain": [
              "year                           company  LSV  ...   gap  gap_rate\n",
              "0     Lambeth & Southwark and Vauxhall    1  ... -1357 -0.347592\n",
              "1               Southwark and Vauxhall    0  ...   197  0.087130\n",
              "\n",
              "[2 rows x 6 columns]"
            ]
          },
          "metadata": {
            "tags": []
          },
          "execution_count": 4
        }
      ]
    },
    {
      "cell_type": "code",
      "metadata": {
        "id": "rlyAPT_1igna",
        "colab_type": "code",
        "colab": {}
      },
      "source": [
        "y1849_treat = JS_grp_summary[JS_grp_summary['LSV'] == 1]['year_1849'].values[0]\n",
        "y1854_treat = JS_grp_summary[JS_grp_summary['LSV'] == 1]['year_1854'].values[0]\n",
        "y1849_control = JS_grp_summary[JS_grp_summary['LSV'] == 0]['year_1849'].values[0]\n",
        "y1854_control = JS_grp_summary[JS_grp_summary['LSV'] == 0]['year_1854'].values[0]\n",
        "trend_gap = JS_grp_summary[JS_grp_summary['LSV'] == 0]['gap']"
      ],
      "execution_count": 5,
      "outputs": []
    },
    {
      "cell_type": "code",
      "metadata": {
        "id": "A5kgJtxGh-jr",
        "colab_type": "code",
        "colab": {
          "base_uri": "https://localhost:8080/",
          "height": 279
        },
        "outputId": "d8eb1774-5da3-4c8e-bdee-c8fa07d93ead"
      },
      "source": [
        "plt.plot([0, 1], [y1849_treat, y1849_treat + trend_gap], 'k--')\n",
        "\n",
        "plt.plot([0, 1], [y1849_treat, y1849_treat], 'k--')\n",
        "plt.plot([0, 1], [y1849_control, y1849_control], 'k--')\n",
        "\n",
        "plt.plot([0, 1], [y1849_treat, y1854_treat], '^b-')\n",
        "plt.plot([0, 1], [y1849_control, y1854_control], 'ob-')\n",
        "\n",
        "plt.vlines(1.1, y1849_control, y1849_control + trend_gap)\n",
        "plt.hlines(y1849_control, 1.08, 1.12)\n",
        "plt.hlines(y1849_control + trend_gap, 1.08, 1.12)\n",
        "plt.text(1.2, (y1849_control + y1849_control + trend_gap)/2, s='(1)')\n",
        "\n",
        "plt.vlines(1.1, y1849_treat, y1849_treat + trend_gap)\n",
        "plt.hlines(y1849_treat, 1.08, 1.12)\n",
        "plt.hlines(y1849_treat + trend_gap, 1.08, 1.12)\n",
        "plt.text(1.2, (y1849_treat + y1849_treat + trend_gap)/2, s='(2)')\n",
        "\n",
        "plt.vlines(1.1, y1849_treat, y1854_treat)\n",
        "plt.hlines(y1849_treat, 1.08, 1.12)\n",
        "plt.hlines(y1854_treat, 1.08, 1.12)\n",
        "plt.text(1.2, (y1849_treat + y1854_treat)/2, s='(3)')\n",
        "\n",
        "plt.xlabel('year')\n",
        "plt.xlim([-0.5, 1.5])\n",
        "plt.xticks([0, 1], [1849, 1854])\n",
        "plt.ylabel('death')\n",
        "plt.show()"
      ],
      "execution_count": 7,
      "outputs": [
        {
          "output_type": "display_data",
          "data": {
            "image/png": "[encoded data removed]",
            "text/plain": [
              "<Figure size 432x288 with 1 Axes>"
            ]
          },
          "metadata": {
            "tags": [],
            "needs_background": "light"
          }
        }
      ]
    },
    {
      "cell_type": "markdown",
      "metadata": {
        "id": "_23tzl02hXXc",
        "colab_type": "text"
      },
      "source": [
        "# 回帰分析による推定"
      ]
    },
    {
      "cell_type": "code",
      "metadata": {
        "id": "iTQJFPvwpAJ6",
        "colab_type": "code",
        "colab": {}
      },
      "source": [
        "JS_did = JS_sum.copy()\n",
        "JS_did['D1854'] = JS_did['year'].apply(lambda x: 1 if x == 1854 else 0)\n",
        "# JS_did['D1854_LSV'] = JS_did['D1854'] * JS_did['LSV']  # モデル式で定義できる\n",
        "JS_did['log_death'] = np.log(JS_did['death'])\n",
        "\n",
        "JS_did_area = JS_df.copy()\n",
        "JS_did_area['D1854'] = JS_did_area.year.apply(lambda x: 1 if x == 1854 else 0)\n",
        "# JS_did_area['D1854_LSV'] = JS_did_area['D1854'] * JS_did_area['LSV']\n",
        "JS_did_area['log_death'] = np.log(JS_did_area['death'])"
      ],
      "execution_count": 8,
      "outputs": []
    },
    {
      "cell_type": "code",
      "metadata": {
        "id": "RRX-9cGloxQk",
        "colab_type": "code",
        "colab": {
          "base_uri": "https://localhost:8080/",
          "height": 328
        },
        "outputId": "97cda869-712e-4cf7-d033-7a6dcf86a1e7"
      },
      "source": [
        "from statsmodels.formula.api import ols\n",
        "\n",
        "model = ols('death ~ LSV + D1854 + D1854:LSV', data=JS_did).fit()\n",
        "model.summary().tables[1]"
      ],
      "execution_count": 9,
      "outputs": [
        {
          "output_type": "stream",
          "text": [
            "/usr/local/lib/python3.6/dist-packages/statsmodels/tools/_testing.py:19: FutureWarning: pandas.util.testing is deprecated. Use the functions in the public API at pandas.testing instead.\n",
            "  import pandas.util.testing as tm\n",
            "/usr/local/lib/python3.6/dist-packages/statsmodels/stats/stattools.py:71: ValueWarning: omni_normtest is not valid with less than 8 observations; 4 samples were given.\n",
            "  \"samples were given.\" % int(n), ValueWarning)\n",
            "/usr/local/lib/python3.6/dist-packages/statsmodels/regression/linear_model.py:1648: RuntimeWarning: divide by zero encountered in true_divide\n",
            "  return 1 - (np.divide(self.nobs - self.k_constant, self.df_resid)\n",
            "/usr/local/lib/python3.6/dist-packages/statsmodels/regression/linear_model.py:1649: RuntimeWarning: invalid value encountered in double_scalars\n",
            "  * (1 - self.rsquared))\n",
            "/usr/local/lib/python3.6/dist-packages/statsmodels/regression/linear_model.py:1665: RuntimeWarning: divide by zero encountered in double_scalars\n",
            "  return self.ssr/self.df_resid\n",
            "/usr/local/lib/python3.6/dist-packages/statsmodels/regression/linear_model.py:1578: RuntimeWarning: divide by zero encountered in double_scalars\n",
            "  return np.dot(wresid, wresid) / self.df_resid\n"
          ],
          "name": "stderr"
        },
        {
          "output_type": "execute_result",
          "data": {
            "text/html": [
              "<table class=\"simpletable\">\n",
              "<tr>\n",
              "      <td></td>         <th>coef</th>     <th>std err</th>      <th>t</th>      <th>P>|t|</th>  <th>[0.025</th>    <th>0.975]</th>  \n",
              "</tr>\n",
              "<tr>\n",
              "  <th>Intercept</th> <td> 2261.0000</td> <td>      inf</td> <td>        0</td> <td>   nan</td> <td>      nan</td> <td>      nan</td>\n",
              "</tr>\n",
              "<tr>\n",
              "  <th>LSV</th>       <td> 1643.0000</td> <td>      inf</td> <td>        0</td> <td>   nan</td> <td>      nan</td> <td>      nan</td>\n",
              "</tr>\n",
              "<tr>\n",
              "  <th>D1854</th>     <td>  197.0000</td> <td>      inf</td> <td>        0</td> <td>   nan</td> <td>      nan</td> <td>      nan</td>\n",
              "</tr>\n",
              "<tr>\n",
              "  <th>D1854:LSV</th> <td>-1554.0000</td> <td>      inf</td> <td>       -0</td> <td>   nan</td> <td>      nan</td> <td>      nan</td>\n",
              "</tr>\n",
              "</table>"
            ],
            "text/plain": [
              "<class 'statsmodels.iolib.table.SimpleTable'>"
            ]
          },
          "metadata": {
            "tags": []
          },
          "execution_count": 9
        }
      ]
    },
    {
      "cell_type": "code",
      "metadata": {
        "id": "tOFzqwFvotDs",
        "colab_type": "code",
        "colab": {
          "base_uri": "https://localhost:8080/",
          "height": 294
        },
        "outputId": "4f51f516-060e-4180-a9f8-11b9f0deecd9"
      },
      "source": [
        "model = ols('log_death ~ LSV + D1854 + D1854:LSV', data=JS_did).fit()\n",
        "model.summary().tables[1]"
      ],
      "execution_count": 10,
      "outputs": [
        {
          "output_type": "stream",
          "text": [
            "/usr/local/lib/python3.6/dist-packages/statsmodels/stats/stattools.py:71: ValueWarning: omni_normtest is not valid with less than 8 observations; 4 samples were given.\n",
            "  \"samples were given.\" % int(n), ValueWarning)\n",
            "/usr/local/lib/python3.6/dist-packages/statsmodels/regression/linear_model.py:1648: RuntimeWarning: divide by zero encountered in true_divide\n",
            "  return 1 - (np.divide(self.nobs - self.k_constant, self.df_resid)\n",
            "/usr/local/lib/python3.6/dist-packages/statsmodels/regression/linear_model.py:1649: RuntimeWarning: invalid value encountered in double_scalars\n",
            "  * (1 - self.rsquared))\n",
            "/usr/local/lib/python3.6/dist-packages/statsmodels/regression/linear_model.py:1665: RuntimeWarning: divide by zero encountered in double_scalars\n",
            "  return self.ssr/self.df_resid\n",
            "/usr/local/lib/python3.6/dist-packages/statsmodels/regression/linear_model.py:1578: RuntimeWarning: divide by zero encountered in double_scalars\n",
            "  return np.dot(wresid, wresid) / self.df_resid\n"
          ],
          "name": "stderr"
        },
        {
          "output_type": "execute_result",
          "data": {
            "text/html": [
              "<table class=\"simpletable\">\n",
              "<tr>\n",
              "      <td></td>         <th>coef</th>     <th>std err</th>      <th>t</th>      <th>P>|t|</th>  <th>[0.025</th>    <th>0.975]</th>  \n",
              "</tr>\n",
              "<tr>\n",
              "  <th>Intercept</th> <td>    7.7236</td> <td>      inf</td> <td>        0</td> <td>   nan</td> <td>      nan</td> <td>      nan</td>\n",
              "</tr>\n",
              "<tr>\n",
              "  <th>LSV</th>       <td>    0.5462</td> <td>      inf</td> <td>        0</td> <td>   nan</td> <td>      nan</td> <td>      nan</td>\n",
              "</tr>\n",
              "<tr>\n",
              "  <th>D1854</th>     <td>    0.0835</td> <td>      inf</td> <td>        0</td> <td>   nan</td> <td>      nan</td> <td>      nan</td>\n",
              "</tr>\n",
              "<tr>\n",
              "  <th>D1854:LSV</th> <td>   -0.5106</td> <td>      inf</td> <td>       -0</td> <td>   nan</td> <td>      nan</td> <td>      nan</td>\n",
              "</tr>\n",
              "</table>"
            ],
            "text/plain": [
              "<class 'statsmodels.iolib.table.SimpleTable'>"
            ]
          },
          "metadata": {
            "tags": []
          },
          "execution_count": 10
        }
      ]
    },
    {
      "cell_type": "code",
      "metadata": {
        "id": "5Pz2EX_qqHDf",
        "colab_type": "code",
        "colab": {
          "base_uri": "https://localhost:8080/",
          "height": 173
        },
        "outputId": "1c2fad11-5aeb-4979-b561-4a2cce2125af"
      },
      "source": [
        "model = ols('death ~ LSV + area + D1854 + D1854:LSV', data=JS_did_area).fit()\n",
        "results = pd.read_html(model.summary().tables[1].as_html(),  header=0, )[0]\n",
        "results[~results['Unnamed: 0'].str.startswith('area')]"
      ],
      "execution_count": 11,
      "outputs": [
        {
          "output_type": "execute_result",
          "data": {
            "text/html": [
              "<div>\n",
              "<style scoped>\n",
              "    .dataframe tbody tr th:only-of-type {\n",
              "        vertical-align: middle;\n",
              "    }\n",
              "\n",
              "    .dataframe tbody tr th {\n",
              "        vertical-align: top;\n",
              "    }\n",
              "\n",
              "    .dataframe thead th {\n",
              "        text-align: right;\n",
              "    }\n",
              "</style>\n",
              "<table border=\"1\" class=\"dataframe\">\n",
              "  <thead>\n",
              "    <tr style=\"text-align: right;\">\n",
              "      <th></th>\n",
              "      <th>Unnamed: 0</th>\n",
              "      <th>coef</th>\n",
              "      <th>std err</th>\n",
              "      <th>t</th>\n",
              "      <th>P&gt;|t|</th>\n",
              "      <th>[0.025</th>\n",
              "      <th>0.975]</th>\n",
              "    </tr>\n",
              "  </thead>\n",
              "  <tbody>\n",
              "    <tr>\n",
              "      <th>0</th>\n",
              "      <td>Intercept</td>\n",
              "      <td>177.7076</td>\n",
              "      <td>15.710</td>\n",
              "      <td>11.312</td>\n",
              "      <td>0.000</td>\n",
              "      <td>145.415</td>\n",
              "      <td>210.000</td>\n",
              "    </tr>\n",
              "    <tr>\n",
              "      <th>28</th>\n",
              "      <td>LSV</td>\n",
              "      <td>49.1987</td>\n",
              "      <td>44.773</td>\n",
              "      <td>1.099</td>\n",
              "      <td>0.282</td>\n",
              "      <td>-42.833</td>\n",
              "      <td>141.230</td>\n",
              "    </tr>\n",
              "    <tr>\n",
              "      <th>29</th>\n",
              "      <td>D1854</td>\n",
              "      <td>16.4167</td>\n",
              "      <td>25.365</td>\n",
              "      <td>0.647</td>\n",
              "      <td>0.523</td>\n",
              "      <td>-35.721</td>\n",
              "      <td>68.555</td>\n",
              "    </tr>\n",
              "    <tr>\n",
              "      <th>30</th>\n",
              "      <td>D1854:LSV</td>\n",
              "      <td>-101.2292</td>\n",
              "      <td>33.554</td>\n",
              "      <td>-3.017</td>\n",
              "      <td>0.006</td>\n",
              "      <td>-170.201</td>\n",
              "      <td>-32.257</td>\n",
              "    </tr>\n",
              "  </tbody>\n",
              "</table>\n",
              "</div>"
            ],
            "text/plain": [
              "   Unnamed: 0      coef  std err       t  P>|t|   [0.025   0.975]\n",
              "0   Intercept  177.7076   15.710  11.312  0.000  145.415  210.000\n",
              "28        LSV   49.1987   44.773   1.099  0.282  -42.833  141.230\n",
              "29      D1854   16.4167   25.365   0.647  0.523  -35.721   68.555\n",
              "30  D1854:LSV -101.2292   33.554  -3.017  0.006 -170.201  -32.257"
            ]
          },
          "metadata": {
            "tags": []
          },
          "execution_count": 11
        }
      ]
    },
    {
      "cell_type": "code",
      "metadata": {
        "id": "MtwhgYkSsN6i",
        "colab_type": "code",
        "colab": {
          "base_uri": "https://localhost:8080/",
          "height": 173
        },
        "outputId": "83bd6571-773a-4138-e5b5-19624f8b2be2"
      },
      "source": [
        "model = ols('log_death ~ LSV + area + D1854 + D1854:LSV', data=JS_did_area).fit()\n",
        "results = pd.read_html(model.summary().tables[1].as_html(),  header=0, )[0]\n",
        "results[~results['Unnamed: 0'].str.startswith('area')]"
      ],
      "execution_count": 12,
      "outputs": [
        {
          "output_type": "execute_result",
          "data": {
            "text/html": [
              "<div>\n",
              "<style scoped>\n",
              "    .dataframe tbody tr th:only-of-type {\n",
              "        vertical-align: middle;\n",
              "    }\n",
              "\n",
              "    .dataframe tbody tr th {\n",
              "        vertical-align: top;\n",
              "    }\n",
              "\n",
              "    .dataframe thead th {\n",
              "        text-align: right;\n",
              "    }\n",
              "</style>\n",
              "<table border=\"1\" class=\"dataframe\">\n",
              "  <thead>\n",
              "    <tr style=\"text-align: right;\">\n",
              "      <th></th>\n",
              "      <th>Unnamed: 0</th>\n",
              "      <th>coef</th>\n",
              "      <th>std err</th>\n",
              "      <th>t</th>\n",
              "      <th>P&gt;|t|</th>\n",
              "      <th>[0.025</th>\n",
              "      <th>0.975]</th>\n",
              "    </tr>\n",
              "  </thead>\n",
              "  <tbody>\n",
              "    <tr>\n",
              "      <th>0</th>\n",
              "      <td>Intercept</td>\n",
              "      <td>4.6461</td>\n",
              "      <td>0.082</td>\n",
              "      <td>56.393</td>\n",
              "      <td>0.000</td>\n",
              "      <td>4.477</td>\n",
              "      <td>4.815</td>\n",
              "    </tr>\n",
              "    <tr>\n",
              "      <th>28</th>\n",
              "      <td>LSV</td>\n",
              "      <td>0.7363</td>\n",
              "      <td>0.235</td>\n",
              "      <td>3.136</td>\n",
              "      <td>0.004</td>\n",
              "      <td>0.254</td>\n",
              "      <td>1.219</td>\n",
              "    </tr>\n",
              "    <tr>\n",
              "      <th>29</th>\n",
              "      <td>D1854</td>\n",
              "      <td>0.0739</td>\n",
              "      <td>0.133</td>\n",
              "      <td>0.556</td>\n",
              "      <td>0.583</td>\n",
              "      <td>-0.200</td>\n",
              "      <td>0.347</td>\n",
              "    </tr>\n",
              "    <tr>\n",
              "      <th>30</th>\n",
              "      <td>D1854:LSV</td>\n",
              "      <td>-0.5661</td>\n",
              "      <td>0.176</td>\n",
              "      <td>-3.217</td>\n",
              "      <td>0.003</td>\n",
              "      <td>-0.928</td>\n",
              "      <td>-0.204</td>\n",
              "    </tr>\n",
              "  </tbody>\n",
              "</table>\n",
              "</div>"
            ],
            "text/plain": [
              "   Unnamed: 0    coef  std err       t  P>|t|  [0.025  0.975]\n",
              "0   Intercept  4.6461    0.082  56.393  0.000   4.477   4.815\n",
              "28        LSV  0.7363    0.235   3.136  0.004   0.254   1.219\n",
              "29      D1854  0.0739    0.133   0.556  0.583  -0.200   0.347\n",
              "30  D1854:LSV -0.5661    0.176  -3.217  0.003  -0.928  -0.204"
            ]
          },
          "metadata": {
            "tags": []
          },
          "execution_count": 12
        }
      ]
    },
    {
      "cell_type": "code",
      "metadata": {
        "id": "IGUndmzFtfJ_",
        "colab_type": "code",
        "colab": {}
      },
      "source": [
        ""
      ],
      "execution_count": 12,
      "outputs": []
    }
  ]
}