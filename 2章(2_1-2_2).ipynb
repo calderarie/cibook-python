{
  "nbformat": 4,
  "nbformat_minor": 0,
  "metadata": {
    "colab": {
      "name": "2章(2.1~2.2).ipynb",
      "provenance": [],
      "collapsed_sections": []
    },
    "kernelspec": {
      "name": "python3",
      "display_name": "Python 3"
    }
  },
  "cells": [
    {
      "cell_type": "code",
      "metadata": {
        "id": "-btPFkVMgq9S",
        "colab_type": "code",
        "colab": {}
      },
      "source": [
        "import pandas as pd\n",
        "import numpy as np\n",
        "np.random.seed(529)"
      ],
      "execution_count": 1,
      "outputs": []
    },
    {
      "cell_type": "markdown",
      "metadata": {
        "id": "aDDAxqsekT3_",
        "colab_type": "text"
      },
      "source": [
        "# データの準備 "
      ]
    },
    {
      "cell_type": "code",
      "metadata": {
        "id": "_ASxWemtkYmM",
        "colab_type": "code",
        "colab": {}
      },
      "source": [
        "# データの読み込み\n",
        "email_data = pd.read_csv('http://www.minethatdata.com/Kevin_Hillstrom_MineThatData_E-MailAnalytics_DataMiningChallenge_2008.03.20.csv')\n",
        "\n",
        "# 女性向けメール配信データの削除と介入変数の追加\n",
        "male_df = email_data.copy()  # SettingWithCoppyWarningを回避するためにコピーしているが、本質的に意味はない\n",
        "male_df = male_df[male_df['segment'] != 'Womens E-Mail']\n",
        "male_df['treatment'] = male_df['segment'].apply(lambda x: 1 if x == 'Mens E-Mail' else 0)\n",
        "\n",
        "# バイアスのあるデータの準備\n",
        "obs_rate_c = 0.5\n",
        "obs_rate_t = 0.5\n",
        "\n",
        "biased_data = male_df.copy()\n",
        "biase_rule = (biased_data['history'] > 300) | (biased_data['recency'] < 6) | (biased_data['channel'] == 'Multichannel')\n",
        "biased_data['obs_rate_c'] = biase_rule.apply(lambda x: obs_rate_c if x else 1)\n",
        "biased_data['obs_rate_t'] = biase_rule.apply(lambda x: 1 if x else obs_rate_t)\n",
        "biased_data['random_number'] = np.random.uniform(size=biased_data.shape[0])\n",
        "biased_data = (\n",
        "    biased_data[\n",
        "                ((biased_data['treatment'] == 0) & (biased_data['random_number'] < biased_data['obs_rate_c']))\n",
        "                | ((biased_data['treatment'] == 1) & (biased_data['random_number'] < biased_data['obs_rate_t']))\n",
        "                ]\n",
        ")"
      ],
      "execution_count": 2,
      "outputs": []
    },
    {
      "cell_type": "markdown",
      "metadata": {
        "id": "Qhv3XASGkazQ",
        "colab_type": "text"
      },
      "source": [
        "# バイアスデータの回帰分析"
      ]
    },
    {
      "cell_type": "markdown",
      "metadata": {
        "id": "U61S_2uxoI9V",
        "colab_type": "text"
      },
      "source": [
        "## sklearn"
      ]
    },
    {
      "cell_type": "code",
      "metadata": {
        "id": "BzwQbEeTkt4P",
        "colab_type": "code",
        "colab": {}
      },
      "source": [
        "from sklearn.linear_model import LinearRegression\n",
        "\n",
        "# モデルの学習\n",
        "X = biased_data[['treatment', 'history']]\n",
        "y = biased_data['spend']\n",
        "model = LinearRegression(fit_intercept=True, normalize=False).fit(X, y)"
      ],
      "execution_count": 3,
      "outputs": []
    },
    {
      "cell_type": "code",
      "metadata": {
        "id": "lRW4ahIxnhkN",
        "colab_type": "code",
        "colab": {
          "base_uri": "https://localhost:8080/",
          "height": 70
        },
        "outputId": "d85f239c-6c00-4ad8-e5e9-2b7f9dd57a24"
      },
      "source": [
        "# 結果の出力\n",
        "print(f'R^2: {model.score(X, y)}')\n",
        "print(f'intercept: {model.intercept_}')\n",
        "print(f'coefficients: {model.coef_}')"
      ],
      "execution_count": 4,
      "outputs": [
        {
          "output_type": "stream",
          "text": [
            "R^2: 0.0012301106028368425\n",
            "intercept: 0.36686204599715955\n",
            "coefficients: [0.80139138 0.00130696]\n"
          ],
          "name": "stdout"
        }
      ]
    },
    {
      "cell_type": "markdown",
      "metadata": {
        "id": "yjBnvXh2oMIo",
        "colab_type": "text"
      },
      "source": [
        "## statsmodels"
      ]
    },
    {
      "cell_type": "code",
      "metadata": {
        "id": "dM2rkysjmPwN",
        "colab_type": "code",
        "colab": {
          "base_uri": "https://localhost:8080/",
          "height": 52
        },
        "outputId": "34164930-88a3-4da7-e00b-c78715e6c4cd"
      },
      "source": [
        "from statsmodels.formula.api import ols\n",
        "\n",
        "# モデルの学習\n",
        "model = ols('spend ~ treatment + history', data=biased_data).fit()"
      ],
      "execution_count": 5,
      "outputs": [
        {
          "output_type": "stream",
          "text": [
            "/usr/local/lib/python3.6/dist-packages/statsmodels/tools/_testing.py:19: FutureWarning: pandas.util.testing is deprecated. Use the functions in the public API at pandas.testing instead.\n",
            "  import pandas.util.testing as tm\n"
          ],
          "name": "stderr"
        }
      ]
    },
    {
      "cell_type": "code",
      "metadata": {
        "id": "if1xImWAlkjP",
        "colab_type": "code",
        "colab": {
          "base_uri": "https://localhost:8080/",
          "height": 446
        },
        "outputId": "86ea8c36-7a81-45bc-893e-8346add2dc8f"
      },
      "source": [
        "# 結果の出力\n",
        "model.summary()  # treatmentのcoef(0.8014)とP値(0.000)に着目する"
      ],
      "execution_count": 6,
      "outputs": [
        {
          "output_type": "execute_result",
          "data": {
            "text/html": [
              "<table class=\"simpletable\">\n",
              "<caption>OLS Regression Results</caption>\n",
              "<tr>\n",
              "  <th>Dep. Variable:</th>          <td>spend</td>      <th>  R-squared:         </th>  <td>   0.001</td>  \n",
              "</tr>\n",
              "<tr>\n",
              "  <th>Model:</th>                   <td>OLS</td>       <th>  Adj. R-squared:    </th>  <td>   0.001</td>  \n",
              "</tr>\n",
              "<tr>\n",
              "  <th>Method:</th>             <td>Least Squares</td>  <th>  F-statistic:       </th>  <td>   19.73</td>  \n",
              "</tr>\n",
              "<tr>\n",
              "  <th>Date:</th>             <td>Wed, 24 Jun 2020</td> <th>  Prob (F-statistic):</th>  <td>2.72e-09</td>  \n",
              "</tr>\n",
              "<tr>\n",
              "  <th>Time:</th>                 <td>13:28:09</td>     <th>  Log-Likelihood:    </th> <td>-1.3406e+05</td>\n",
              "</tr>\n",
              "<tr>\n",
              "  <th>No. Observations:</th>      <td> 32050</td>      <th>  AIC:               </th>  <td>2.681e+05</td> \n",
              "</tr>\n",
              "<tr>\n",
              "  <th>Df Residuals:</th>          <td> 32047</td>      <th>  BIC:               </th>  <td>2.682e+05</td> \n",
              "</tr>\n",
              "<tr>\n",
              "  <th>Df Model:</th>              <td>     2</td>      <th>                     </th>      <td> </td>     \n",
              "</tr>\n",
              "<tr>\n",
              "  <th>Covariance Type:</th>      <td>nonrobust</td>    <th>                     </th>      <td> </td>     \n",
              "</tr>\n",
              "</table>\n",
              "<table class=\"simpletable\">\n",
              "<tr>\n",
              "      <td></td>         <th>coef</th>     <th>std err</th>      <th>t</th>      <th>P>|t|</th>  <th>[0.025</th>    <th>0.975]</th>  \n",
              "</tr>\n",
              "<tr>\n",
              "  <th>Intercept</th> <td>    0.3669</td> <td>    0.148</td> <td>    2.472</td> <td> 0.013</td> <td>    0.076</td> <td>    0.658</td>\n",
              "</tr>\n",
              "<tr>\n",
              "  <th>treatment</th> <td>    0.8014</td> <td>    0.179</td> <td>    4.469</td> <td> 0.000</td> <td>    0.450</td> <td>    1.153</td>\n",
              "</tr>\n",
              "<tr>\n",
              "  <th>history</th>   <td>    0.0013</td> <td>    0.000</td> <td>    3.778</td> <td> 0.000</td> <td>    0.001</td> <td>    0.002</td>\n",
              "</tr>\n",
              "</table>\n",
              "<table class=\"simpletable\">\n",
              "<tr>\n",
              "  <th>Omnibus:</th>       <td>70681.398</td> <th>  Durbin-Watson:     </th>   <td>   2.003</td>   \n",
              "</tr>\n",
              "<tr>\n",
              "  <th>Prob(Omnibus):</th>  <td> 0.000</td>   <th>  Jarque-Bera (JB):  </th> <td>340206674.375</td>\n",
              "</tr>\n",
              "<tr>\n",
              "  <th>Skew:</th>           <td>20.568</td>   <th>  Prob(JB):          </th>   <td>    0.00</td>   \n",
              "</tr>\n",
              "<tr>\n",
              "  <th>Kurtosis:</th>       <td>506.055</td>  <th>  Cond. No.          </th>   <td>    832.</td>   \n",
              "</tr>\n",
              "</table><br/><br/>Warnings:<br/>[1] Standard Errors assume that the covariance matrix of the errors is correctly specified."
            ],
            "text/plain": [
              "<class 'statsmodels.iolib.summary.Summary'>\n",
              "\"\"\"\n",
              "                            OLS Regression Results                            \n",
              "==============================================================================\n",
              "Dep. Variable:                  spend   R-squared:                       0.001\n",
              "Model:                            OLS   Adj. R-squared:                  0.001\n",
              "Method:                 Least Squares   F-statistic:                     19.73\n",
              "Date:                Wed, 24 Jun 2020   Prob (F-statistic):           2.72e-09\n",
              "Time:                        13:28:09   Log-Likelihood:            -1.3406e+05\n",
              "No. Observations:               32050   AIC:                         2.681e+05\n",
              "Df Residuals:                   32047   BIC:                         2.682e+05\n",
              "Df Model:                           2                                         \n",
              "Covariance Type:            nonrobust                                         \n",
              "==============================================================================\n",
              "                 coef    std err          t      P>|t|      [0.025      0.975]\n",
              "------------------------------------------------------------------------------\n",
              "Intercept      0.3669      0.148      2.472      0.013       0.076       0.658\n",
              "treatment      0.8014      0.179      4.469      0.000       0.450       1.153\n",
              "history        0.0013      0.000      3.778      0.000       0.001       0.002\n",
              "==============================================================================\n",
              "Omnibus:                    70681.398   Durbin-Watson:                   2.003\n",
              "Prob(Omnibus):                  0.000   Jarque-Bera (JB):        340206674.375\n",
              "Skew:                          20.568   Prob(JB):                         0.00\n",
              "Kurtosis:                     506.055   Cond. No.                         832.\n",
              "==============================================================================\n",
              "\n",
              "Warnings:\n",
              "[1] Standard Errors assume that the covariance matrix of the errors is correctly specified.\n",
              "\"\"\""
            ]
          },
          "metadata": {
            "tags": []
          },
          "execution_count": 6
        }
      ]
    },
    {
      "cell_type": "markdown",
      "metadata": {
        "id": "rNElBPHBpSWX",
        "colab_type": "text"
      },
      "source": [
        "# 共変量の与える効果"
      ]
    },
    {
      "cell_type": "code",
      "metadata": {
        "id": "Ki6gLUQ7wQf2",
        "colab_type": "code",
        "colab": {
          "base_uri": "https://localhost:8080/",
          "height": 426
        },
        "outputId": "2ecd85ab-5a71-46da-edaf-b55782c5b0d0"
      },
      "source": [
        "# RCTデータ\n",
        "rct_reg = ols('spend ~ treatment', data=male_df).fit()\n",
        "rct_reg.summary() # 介入効果(0.7698)がRCT比較による結果と一致する"
      ],
      "execution_count": 7,
      "outputs": [
        {
          "output_type": "execute_result",
          "data": {
            "text/html": [
              "<table class=\"simpletable\">\n",
              "<caption>OLS Regression Results</caption>\n",
              "<tr>\n",
              "  <th>Dep. Variable:</th>          <td>spend</td>      <th>  R-squared:         </th>  <td>   0.001</td>  \n",
              "</tr>\n",
              "<tr>\n",
              "  <th>Model:</th>                   <td>OLS</td>       <th>  Adj. R-squared:    </th>  <td>   0.001</td>  \n",
              "</tr>\n",
              "<tr>\n",
              "  <th>Method:</th>             <td>Least Squares</td>  <th>  F-statistic:       </th>  <td>   28.09</td>  \n",
              "</tr>\n",
              "<tr>\n",
              "  <th>Date:</th>             <td>Wed, 24 Jun 2020</td> <th>  Prob (F-statistic):</th>  <td>1.16e-07</td>  \n",
              "</tr>\n",
              "<tr>\n",
              "  <th>Time:</th>                 <td>13:28:09</td>     <th>  Log-Likelihood:    </th> <td>-1.7584e+05</td>\n",
              "</tr>\n",
              "<tr>\n",
              "  <th>No. Observations:</th>      <td> 42613</td>      <th>  AIC:               </th>  <td>3.517e+05</td> \n",
              "</tr>\n",
              "<tr>\n",
              "  <th>Df Residuals:</th>          <td> 42611</td>      <th>  BIC:               </th>  <td>3.517e+05</td> \n",
              "</tr>\n",
              "<tr>\n",
              "  <th>Df Model:</th>              <td>     1</td>      <th>                     </th>      <td> </td>     \n",
              "</tr>\n",
              "<tr>\n",
              "  <th>Covariance Type:</th>      <td>nonrobust</td>    <th>                     </th>      <td> </td>     \n",
              "</tr>\n",
              "</table>\n",
              "<table class=\"simpletable\">\n",
              "<tr>\n",
              "      <td></td>         <th>coef</th>     <th>std err</th>      <th>t</th>      <th>P>|t|</th>  <th>[0.025</th>    <th>0.975]</th>  \n",
              "</tr>\n",
              "<tr>\n",
              "  <th>Intercept</th> <td>    0.6528</td> <td>    0.103</td> <td>    6.356</td> <td> 0.000</td> <td>    0.451</td> <td>    0.854</td>\n",
              "</tr>\n",
              "<tr>\n",
              "  <th>treatment</th> <td>    0.7698</td> <td>    0.145</td> <td>    5.300</td> <td> 0.000</td> <td>    0.485</td> <td>    1.055</td>\n",
              "</tr>\n",
              "</table>\n",
              "<table class=\"simpletable\">\n",
              "<tr>\n",
              "  <th>Omnibus:</th>       <td>94877.860</td> <th>  Durbin-Watson:     </th>   <td>   2.000</td>   \n",
              "</tr>\n",
              "<tr>\n",
              "  <th>Prob(Omnibus):</th>  <td> 0.000</td>   <th>  Jarque-Bera (JB):  </th> <td>502270597.344</td>\n",
              "</tr>\n",
              "<tr>\n",
              "  <th>Skew:</th>           <td>21.023</td>   <th>  Prob(JB):          </th>   <td>    0.00</td>   \n",
              "</tr>\n",
              "<tr>\n",
              "  <th>Kurtosis:</th>       <td>533.203</td>  <th>  Cond. No.          </th>   <td>    2.62</td>   \n",
              "</tr>\n",
              "</table><br/><br/>Warnings:<br/>[1] Standard Errors assume that the covariance matrix of the errors is correctly specified."
            ],
            "text/plain": [
              "<class 'statsmodels.iolib.summary.Summary'>\n",
              "\"\"\"\n",
              "                            OLS Regression Results                            \n",
              "==============================================================================\n",
              "Dep. Variable:                  spend   R-squared:                       0.001\n",
              "Model:                            OLS   Adj. R-squared:                  0.001\n",
              "Method:                 Least Squares   F-statistic:                     28.09\n",
              "Date:                Wed, 24 Jun 2020   Prob (F-statistic):           1.16e-07\n",
              "Time:                        13:28:09   Log-Likelihood:            -1.7584e+05\n",
              "No. Observations:               42613   AIC:                         3.517e+05\n",
              "Df Residuals:                   42611   BIC:                         3.517e+05\n",
              "Df Model:                           1                                         \n",
              "Covariance Type:            nonrobust                                         \n",
              "==============================================================================\n",
              "                 coef    std err          t      P>|t|      [0.025      0.975]\n",
              "------------------------------------------------------------------------------\n",
              "Intercept      0.6528      0.103      6.356      0.000       0.451       0.854\n",
              "treatment      0.7698      0.145      5.300      0.000       0.485       1.055\n",
              "==============================================================================\n",
              "Omnibus:                    94877.860   Durbin-Watson:                   2.000\n",
              "Prob(Omnibus):                  0.000   Jarque-Bera (JB):        502270597.344\n",
              "Skew:                          21.023   Prob(JB):                         0.00\n",
              "Kurtosis:                     533.203   Cond. No.                         2.62\n",
              "==============================================================================\n",
              "\n",
              "Warnings:\n",
              "[1] Standard Errors assume that the covariance matrix of the errors is correctly specified.\n",
              "\"\"\""
            ]
          },
          "metadata": {
            "tags": []
          },
          "execution_count": 7
        }
      ]
    },
    {
      "cell_type": "code",
      "metadata": {
        "id": "obtn_pFb7PvQ",
        "colab_type": "code",
        "colab": {
          "base_uri": "https://localhost:8080/",
          "height": 78
        },
        "outputId": "46575412-3ae1-4adc-e80b-3e3394aaaf7d"
      },
      "source": [
        "# 切片と推定値に関するテーブルのみ指定できる\n",
        "rct_reg.summary().tables[1]  # treatmentに関する推定値が0.7698"
      ],
      "execution_count": 8,
      "outputs": [
        {
          "output_type": "execute_result",
          "data": {
            "text/html": [
              "<table class=\"simpletable\">\n",
              "<tr>\n",
              "      <td></td>         <th>coef</th>     <th>std err</th>      <th>t</th>      <th>P>|t|</th>  <th>[0.025</th>    <th>0.975]</th>  \n",
              "</tr>\n",
              "<tr>\n",
              "  <th>Intercept</th> <td>    0.6528</td> <td>    0.103</td> <td>    6.356</td> <td> 0.000</td> <td>    0.451</td> <td>    0.854</td>\n",
              "</tr>\n",
              "<tr>\n",
              "  <th>treatment</th> <td>    0.7698</td> <td>    0.145</td> <td>    5.300</td> <td> 0.000</td> <td>    0.485</td> <td>    1.055</td>\n",
              "</tr>\n",
              "</table>"
            ],
            "text/plain": [
              "<class 'statsmodels.iolib.table.SimpleTable'>"
            ]
          },
          "metadata": {
            "tags": []
          },
          "execution_count": 8
        }
      ]
    },
    {
      "cell_type": "code",
      "metadata": {
        "id": "YhaA1XdwwaEA",
        "colab_type": "code",
        "colab": {
          "base_uri": "https://localhost:8080/",
          "height": 78
        },
        "outputId": "f39b775c-dab0-4dde-b480-c42fa5fa9afc"
      },
      "source": [
        "# バイアスデータの単回帰\n",
        "nonrct_reg = ols('spend ~ treatment', data=biased_data).fit()\n",
        "nonrct_reg.summary().tables[1] # セレクションバイアスによって、本来の効果よりも過剰に値が推定される(0.7698 -> 0.8921)"
      ],
      "execution_count": 9,
      "outputs": [
        {
          "output_type": "execute_result",
          "data": {
            "text/html": [
              "<table class=\"simpletable\">\n",
              "<tr>\n",
              "      <td></td>         <th>coef</th>     <th>std err</th>      <th>t</th>      <th>P>|t|</th>  <th>[0.025</th>    <th>0.975]</th>  \n",
              "</tr>\n",
              "<tr>\n",
              "  <th>Intercept</th> <td>    0.6356</td> <td>    0.130</td> <td>    4.878</td> <td> 0.000</td> <td>    0.380</td> <td>    0.891</td>\n",
              "</tr>\n",
              "<tr>\n",
              "  <th>treatment</th> <td>    0.8921</td> <td>    0.178</td> <td>    5.019</td> <td> 0.000</td> <td>    0.544</td> <td>    1.240</td>\n",
              "</tr>\n",
              "</table>"
            ],
            "text/plain": [
              "<class 'statsmodels.iolib.table.SimpleTable'>"
            ]
          },
          "metadata": {
            "tags": []
          },
          "execution_count": 9
        }
      ]
    },
    {
      "cell_type": "code",
      "metadata": {
        "id": "AaKEpOy6xd48",
        "colab_type": "code",
        "colab": {
          "base_uri": "https://localhost:8080/",
          "height": 158
        },
        "outputId": "9c2d5001-ac3d-44d9-eeaf-612c47f9b567"
      },
      "source": [
        "# バイアスデータの重回帰\n",
        "nonrct_mreg = ols('spend ~ treatment + recency + channel + history', data=biased_data).fit()\n",
        "nonrct_mreg.summary().tables[1] # 結果が本来の値に近づく"
      ],
      "execution_count": 10,
      "outputs": [
        {
          "output_type": "execute_result",
          "data": {
            "text/html": [
              "<table class=\"simpletable\">\n",
              "<tr>\n",
              "          <td></td>            <th>coef</th>     <th>std err</th>      <th>t</th>      <th>P>|t|</th>  <th>[0.025</th>    <th>0.975]</th>  \n",
              "</tr>\n",
              "<tr>\n",
              "  <th>Intercept</th>        <td>    0.3705</td> <td>    0.388</td> <td>    0.955</td> <td> 0.340</td> <td>   -0.390</td> <td>    1.131</td>\n",
              "</tr>\n",
              "<tr>\n",
              "  <th>channel[T.Phone]</th> <td>    0.2091</td> <td>    0.311</td> <td>    0.672</td> <td> 0.502</td> <td>   -0.401</td> <td>    0.819</td>\n",
              "</tr>\n",
              "<tr>\n",
              "  <th>channel[T.Web]</th>   <td>    0.4646</td> <td>    0.311</td> <td>    1.495</td> <td> 0.135</td> <td>   -0.144</td> <td>    1.074</td>\n",
              "</tr>\n",
              "<tr>\n",
              "  <th>treatment</th>        <td>    0.7414</td> <td>    0.183</td> <td>    4.043</td> <td> 0.000</td> <td>    0.382</td> <td>    1.101</td>\n",
              "</tr>\n",
              "<tr>\n",
              "  <th>recency</th>          <td>   -0.0477</td> <td>    0.027</td> <td>   -1.792</td> <td> 0.073</td> <td>   -0.100</td> <td>    0.004</td>\n",
              "</tr>\n",
              "<tr>\n",
              "  <th>history</th>          <td>    0.0013</td> <td>    0.000</td> <td>    3.466</td> <td> 0.001</td> <td>    0.001</td> <td>    0.002</td>\n",
              "</tr>\n",
              "</table>"
            ],
            "text/plain": [
              "<class 'statsmodels.iolib.table.SimpleTable'>"
            ]
          },
          "metadata": {
            "tags": []
          },
          "execution_count": 10
        }
      ]
    },
    {
      "cell_type": "markdown",
      "metadata": {
        "id": "XeWn3O7iyNpf",
        "colab_type": "text"
      },
      "source": [
        "# 脱落変数バイアスの確認"
      ]
    },
    {
      "cell_type": "code",
      "metadata": {
        "id": "bOt5btVQ6084",
        "colab_type": "code",
        "colab": {}
      },
      "source": [
        "model_A = ols('spend ~ treatment + recency + channel', data=biased_data).fit()\n",
        "model_B = ols('spend ~ treatment + recency + channel + history', data=biased_data).fit()\n",
        "model_C = ols('history ~ treatment + recency + channel', data=biased_data).fit()"
      ],
      "execution_count": 11,
      "outputs": []
    },
    {
      "cell_type": "code",
      "metadata": {
        "id": "m3K92WSp61pf",
        "colab_type": "code",
        "colab": {
          "base_uri": "https://localhost:8080/",
          "height": 138
        },
        "outputId": "15d1ab99-b5f7-401e-d6db-609a249fa868"
      },
      "source": [
        "model_A.summary().tables[1] # treatment_coef = 0.7794"
      ],
      "execution_count": 12,
      "outputs": [
        {
          "output_type": "execute_result",
          "data": {
            "text/html": [
              "<table class=\"simpletable\">\n",
              "<tr>\n",
              "          <td></td>            <th>coef</th>     <th>std err</th>      <th>t</th>      <th>P>|t|</th>  <th>[0.025</th>    <th>0.975]</th>  \n",
              "</tr>\n",
              "<tr>\n",
              "  <th>Intercept</th>        <td>    1.1397</td> <td>    0.318</td> <td>    3.582</td> <td> 0.000</td> <td>    0.516</td> <td>    1.763</td>\n",
              "</tr>\n",
              "<tr>\n",
              "  <th>channel[T.Phone]</th> <td>   -0.1953</td> <td>    0.288</td> <td>   -0.677</td> <td> 0.498</td> <td>   -0.761</td> <td>    0.370</td>\n",
              "</tr>\n",
              "<tr>\n",
              "  <th>channel[T.Web]</th>   <td>    0.0613</td> <td>    0.288</td> <td>    0.213</td> <td> 0.832</td> <td>   -0.503</td> <td>    0.626</td>\n",
              "</tr>\n",
              "<tr>\n",
              "  <th>treatment</th>        <td>    0.7794</td> <td>    0.183</td> <td>    4.257</td> <td> 0.000</td> <td>    0.421</td> <td>    1.138</td>\n",
              "</tr>\n",
              "<tr>\n",
              "  <th>recency</th>          <td>   -0.0669</td> <td>    0.026</td> <td>   -2.565</td> <td> 0.010</td> <td>   -0.118</td> <td>   -0.016</td>\n",
              "</tr>\n",
              "</table>"
            ],
            "text/plain": [
              "<class 'statsmodels.iolib.table.SimpleTable'>"
            ]
          },
          "metadata": {
            "tags": []
          },
          "execution_count": 12
        }
      ]
    },
    {
      "cell_type": "code",
      "metadata": {
        "id": "Q8IaHelR_Q6Y",
        "colab_type": "code",
        "colab": {
          "base_uri": "https://localhost:8080/",
          "height": 158
        },
        "outputId": "2f1f23c1-0615-4199-d0b0-99a2cc639622"
      },
      "source": [
        "model_B.summary().tables[1]  #history_coef = 0.0013, treatment_coef=0.7414"
      ],
      "execution_count": 13,
      "outputs": [
        {
          "output_type": "execute_result",
          "data": {
            "text/html": [
              "<table class=\"simpletable\">\n",
              "<tr>\n",
              "          <td></td>            <th>coef</th>     <th>std err</th>      <th>t</th>      <th>P>|t|</th>  <th>[0.025</th>    <th>0.975]</th>  \n",
              "</tr>\n",
              "<tr>\n",
              "  <th>Intercept</th>        <td>    0.3705</td> <td>    0.388</td> <td>    0.955</td> <td> 0.340</td> <td>   -0.390</td> <td>    1.131</td>\n",
              "</tr>\n",
              "<tr>\n",
              "  <th>channel[T.Phone]</th> <td>    0.2091</td> <td>    0.311</td> <td>    0.672</td> <td> 0.502</td> <td>   -0.401</td> <td>    0.819</td>\n",
              "</tr>\n",
              "<tr>\n",
              "  <th>channel[T.Web]</th>   <td>    0.4646</td> <td>    0.311</td> <td>    1.495</td> <td> 0.135</td> <td>   -0.144</td> <td>    1.074</td>\n",
              "</tr>\n",
              "<tr>\n",
              "  <th>treatment</th>        <td>    0.7414</td> <td>    0.183</td> <td>    4.043</td> <td> 0.000</td> <td>    0.382</td> <td>    1.101</td>\n",
              "</tr>\n",
              "<tr>\n",
              "  <th>recency</th>          <td>   -0.0477</td> <td>    0.027</td> <td>   -1.792</td> <td> 0.073</td> <td>   -0.100</td> <td>    0.004</td>\n",
              "</tr>\n",
              "<tr>\n",
              "  <th>history</th>          <td>    0.0013</td> <td>    0.000</td> <td>    3.466</td> <td> 0.001</td> <td>    0.001</td> <td>    0.002</td>\n",
              "</tr>\n",
              "</table>"
            ],
            "text/plain": [
              "<class 'statsmodels.iolib.table.SimpleTable'>"
            ]
          },
          "metadata": {
            "tags": []
          },
          "execution_count": 13
        }
      ]
    },
    {
      "cell_type": "code",
      "metadata": {
        "id": "i0YeiatF_WAF",
        "colab_type": "code",
        "colab": {
          "base_uri": "https://localhost:8080/",
          "height": 138
        },
        "outputId": "0a0ad469-e39e-4039-f0f8-a358802aaa0e"
      },
      "source": [
        "model_C.summary().tables[1]  # treatmen_coef=28.3990"
      ],
      "execution_count": 14,
      "outputs": [
        {
          "output_type": "execute_result",
          "data": {
            "text/html": [
              "<table class=\"simpletable\">\n",
              "<tr>\n",
              "          <td></td>            <th>coef</th>     <th>std err</th>      <th>t</th>      <th>P>|t|</th>  <th>[0.025</th>    <th>0.975]</th>  \n",
              "</tr>\n",
              "<tr>\n",
              "  <th>Intercept</th>        <td>  575.0531</td> <td>    4.605</td> <td>  124.866</td> <td> 0.000</td> <td>  566.026</td> <td>  584.080</td>\n",
              "</tr>\n",
              "<tr>\n",
              "  <th>channel[T.Phone]</th> <td> -302.3718</td> <td>    4.175</td> <td>  -72.419</td> <td> 0.000</td> <td> -310.556</td> <td> -294.188</td>\n",
              "</tr>\n",
              "<tr>\n",
              "  <th>channel[T.Web]</th>   <td> -301.5214</td> <td>    4.170</td> <td>  -72.303</td> <td> 0.000</td> <td> -309.695</td> <td> -293.348</td>\n",
              "</tr>\n",
              "<tr>\n",
              "  <th>treatment</th>        <td>   28.3990</td> <td>    2.650</td> <td>   10.718</td> <td> 0.000</td> <td>   23.206</td> <td>   33.592</td>\n",
              "</tr>\n",
              "<tr>\n",
              "  <th>recency</th>          <td>  -14.3068</td> <td>    0.377</td> <td>  -37.920</td> <td> 0.000</td> <td>  -15.046</td> <td>  -13.567</td>\n",
              "</tr>\n",
              "</table>"
            ],
            "text/plain": [
              "<class 'statsmodels.iolib.table.SimpleTable'>"
            ]
          },
          "metadata": {
            "tags": []
          },
          "execution_count": 14
        }
      ]
    },
    {
      "cell_type": "code",
      "metadata": {
        "id": "erCOe2V7Armm",
        "colab_type": "code",
        "colab": {
          "base_uri": "https://localhost:8080/",
          "height": 52
        },
        "outputId": "1335648f-216e-4bcb-d7bb-abd288ded462"
      },
      "source": [
        "print(f'OVB: {model_B.params[\"history\"] * model_C.params[\"treatment\"]}')\n",
        "print(f'coef_gap: {model_A.params[\"treatment\"] - model_B.params[\"treatment\"]}')"
      ],
      "execution_count": 15,
      "outputs": [
        {
          "output_type": "stream",
          "text": [
            "OVB: 0.03798751588492059\n",
            "coef_gap: 0.03798751588492277\n"
          ],
          "name": "stdout"
        }
      ]
    },
    {
      "cell_type": "markdown",
      "metadata": {
        "id": "4lw482Yh9U_M",
        "colab_type": "text"
      },
      "source": [
        "# 入れてはいけない変数の投入"
      ]
    },
    {
      "cell_type": "code",
      "metadata": {
        "id": "4vOU94bN-2W7",
        "colab_type": "code",
        "colab": {
          "base_uri": "https://localhost:8080/",
          "height": 158
        },
        "outputId": "607ff01f-50e2-439a-e63b-c3106ef389cc"
      },
      "source": [
        "cor_visit_treatment = ols('treatment ~ visit + channel + recency + history', data=biased_data).fit()\n",
        "cor_visit_treatment.summary().tables[1]  # treatmentとvisitに相関がある"
      ],
      "execution_count": 16,
      "outputs": [
        {
          "output_type": "execute_result",
          "data": {
            "text/html": [
              "<table class=\"simpletable\">\n",
              "<tr>\n",
              "          <td></td>            <th>coef</th>     <th>std err</th>      <th>t</th>      <th>P>|t|</th>  <th>[0.025</th>    <th>0.975]</th>  \n",
              "</tr>\n",
              "<tr>\n",
              "  <th>Intercept</th>        <td>    0.7085</td> <td>    0.011</td> <td>   63.778</td> <td> 0.000</td> <td>    0.687</td> <td>    0.730</td>\n",
              "</tr>\n",
              "<tr>\n",
              "  <th>channel[T.Phone]</th> <td>   -0.0620</td> <td>    0.009</td> <td>   -6.580</td> <td> 0.000</td> <td>   -0.080</td> <td>   -0.044</td>\n",
              "</tr>\n",
              "<tr>\n",
              "  <th>channel[T.Web]</th>   <td>   -0.0652</td> <td>    0.009</td> <td>   -6.932</td> <td> 0.000</td> <td>   -0.084</td> <td>   -0.047</td>\n",
              "</tr>\n",
              "<tr>\n",
              "  <th>visit</th>            <td>    0.1444</td> <td>    0.008</td> <td>   19.068</td> <td> 0.000</td> <td>    0.130</td> <td>    0.159</td>\n",
              "</tr>\n",
              "<tr>\n",
              "  <th>recency</th>          <td>   -0.0286</td> <td>    0.001</td> <td>  -36.097</td> <td> 0.000</td> <td>   -0.030</td> <td>   -0.027</td>\n",
              "</tr>\n",
              "<tr>\n",
              "  <th>history</th>          <td>    0.0001</td> <td> 1.17e-05</td> <td>    9.817</td> <td> 0.000</td> <td> 9.18e-05</td> <td>    0.000</td>\n",
              "</tr>\n",
              "</table>"
            ],
            "text/plain": [
              "<class 'statsmodels.iolib.table.SimpleTable'>"
            ]
          },
          "metadata": {
            "tags": []
          },
          "execution_count": 16
        }
      ]
    },
    {
      "cell_type": "code",
      "metadata": {
        "id": "_jmF2MBUI02a",
        "colab_type": "code",
        "colab": {
          "base_uri": "https://localhost:8080/",
          "height": 178
        },
        "outputId": "8b5a8f71-fa5b-4f1b-8180-ae4c5e5b78b4"
      },
      "source": [
        "bad_control_reg = ols('spend ~ treatment + recency + channel + history + visit', data=biased_data).fit()\n",
        "bad_control_reg.summary().tables[1]  # treatmentのcoefが大きく低下する"
      ],
      "execution_count": 17,
      "outputs": [
        {
          "output_type": "execute_result",
          "data": {
            "text/html": [
              "<table class=\"simpletable\">\n",
              "<tr>\n",
              "          <td></td>            <th>coef</th>     <th>std err</th>      <th>t</th>      <th>P>|t|</th>  <th>[0.025</th>    <th>0.975]</th>  \n",
              "</tr>\n",
              "<tr>\n",
              "  <th>Intercept</th>        <td>   -0.5898</td> <td>    0.384</td> <td>   -1.536</td> <td> 0.125</td> <td>   -1.343</td> <td>    0.163</td>\n",
              "</tr>\n",
              "<tr>\n",
              "  <th>channel[T.Phone]</th> <td>    0.3201</td> <td>    0.307</td> <td>    1.043</td> <td> 0.297</td> <td>   -0.282</td> <td>    0.922</td>\n",
              "</tr>\n",
              "<tr>\n",
              "  <th>channel[T.Web]</th>   <td>    0.3366</td> <td>    0.307</td> <td>    1.098</td> <td> 0.272</td> <td>   -0.264</td> <td>    0.938</td>\n",
              "</tr>\n",
              "<tr>\n",
              "  <th>treatment</th>        <td>    0.1696</td> <td>    0.182</td> <td>    0.932</td> <td> 0.351</td> <td>   -0.187</td> <td>    0.526</td>\n",
              "</tr>\n",
              "<tr>\n",
              "  <th>recency</th>          <td>    0.0026</td> <td>    0.026</td> <td>    0.100</td> <td> 0.920</td> <td>   -0.049</td> <td>    0.054</td>\n",
              "</tr>\n",
              "<tr>\n",
              "  <th>history</th>          <td>    0.0008</td> <td>    0.000</td> <td>    2.218</td> <td> 0.027</td> <td> 9.82e-05</td> <td>    0.002</td>\n",
              "</tr>\n",
              "<tr>\n",
              "  <th>visit</th>            <td>    7.3602</td> <td>    0.248</td> <td>   29.672</td> <td> 0.000</td> <td>    6.874</td> <td>    7.846</td>\n",
              "</tr>\n",
              "</table>"
            ],
            "text/plain": [
              "<class 'statsmodels.iolib.table.SimpleTable'>"
            ]
          },
          "metadata": {
            "tags": []
          },
          "execution_count": 17
        }
      ]
    },
    {
      "cell_type": "code",
      "metadata": {
        "id": "1xTEpVc9JNGk",
        "colab_type": "code",
        "colab": {}
      },
      "source": [
        ""
      ],
      "execution_count": 17,
      "outputs": []
    }
  ]
}