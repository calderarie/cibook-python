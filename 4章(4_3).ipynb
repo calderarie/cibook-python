{
  "nbformat": 4,
  "nbformat_minor": 0,
  "metadata": {
    "colab": {
      "name": "4章(4.3).ipynb",
      "provenance": []
    },
    "kernelspec": {
      "name": "python3",
      "display_name": "Python 3"
    }
  },
  "cells": [
    {
      "cell_type": "markdown",
      "metadata": {
        "id": "ZBnFC7NKwGe3",
        "colab_type": "text"
      },
      "source": [
        "# データの準備"
      ]
    },
    {
      "cell_type": "code",
      "metadata": {
        "id": "2XD_y1TUwtFo",
        "colab_type": "code",
        "colab": {
          "base_uri": "https://localhost:8080/",
          "height": 68
        },
        "outputId": "871d7382-a569-4eeb-e939-f90c73fb92d6"
      },
      "source": [
        "!curl -O https://www.wiley.com/legacy/wileychi/baltagi/supp/Cigar.txt"
      ],
      "execution_count": 1,
      "outputs": [
        {
          "output_type": "stream",
          "text": [
            "  % Total    % Received % Xferd  Average Speed   Time    Time     Time  Current\n",
            "                                 Dload  Upload   Total   Spent    Left  Speed\n",
            "100 70185    0 70185    0     0   127k      0 --:--:-- --:--:-- --:--:--  127k\n"
          ],
          "name": "stdout"
        }
      ]
    },
    {
      "cell_type": "code",
      "metadata": {
        "id": "SaJ3p4cGw1sj",
        "colab_type": "code",
        "colab": {
          "base_uri": "https://localhost:8080/",
          "height": 71
        },
        "outputId": "d49a0c6e-df4d-400b-8129-a523c30983ab"
      },
      "source": [
        "import pandas as pd\n",
        "\n",
        "cigar = pd.read_csv(\n",
        "    './Cigar.txt',\n",
        "    header=None, \n",
        "    sep='\\s',\n",
        "    names=['state', 'year', 'price', 'pop', 'pop16', 'cpi', 'ndi', 'sales','pimin']\n",
        ")\n",
        "\n",
        "skip_state = [3, 9, 10, 22, 21, 23, 31, 33, 48]\n",
        "cigar = cigar[(~cigar['state'].isin(skip_state)) & (cigar['year'] >= 70)]\n",
        "cigar['area'] = cigar['state'].apply(lambda x: 'CA' if x==5 else 'Rest of US')"
      ],
      "execution_count": 3,
      "outputs": [
        {
          "output_type": "stream",
          "text": [
            "/usr/local/lib/python3.6/dist-packages/ipykernel_launcher.py:7: ParserWarning: Falling back to the 'python' engine because the 'c' engine does not support regex separators (separators > 1 char and different from '\\s+' are interpreted as regex); you can avoid this warning by specifying engine='python'.\n",
            "  import sys\n"
          ],
          "name": "stderr"
        }
      ]
    },
    {
      "cell_type": "markdown",
      "metadata": {
        "id": "DvOhzPQRzK3m",
        "colab_type": "text"
      },
      "source": [
        "# DIDの実装"
      ]
    },
    {
      "cell_type": "markdown",
      "metadata": {
        "id": "wBGOlGFs403F",
        "colab_type": "text"
      },
      "source": [
        "## 集計分析"
      ]
    },
    {
      "cell_type": "code",
      "metadata": {
        "id": "DyFnh7u8w2nd",
        "colab_type": "code",
        "colab": {
          "base_uri": "https://localhost:8080/",
          "height": 51
        },
        "outputId": "f9aeb535-c857-4859-ec3a-8799d2459c94"
      },
      "source": [
        "cigar_did = cigar.copy()\n",
        "cigar_did['period'] = cigar_did['year'].apply(lambda x: '1_after' if x > 87 else '0_before')\n",
        "cigar_did['sales*pop16'] = cigar_did['sales'] * cigar_did['pop16']\n",
        "cigar_did = cigar_did.groupby(['period', 'area'], as_index=False)['pop16', 'sales*pop16'].sum()\n",
        "cigar_did['sales'] = cigar_did['sales*pop16'] / cigar_did['pop16']\n"
      ],
      "execution_count": 4,
      "outputs": [
        {
          "output_type": "stream",
          "text": [
            "/usr/local/lib/python3.6/dist-packages/ipykernel_launcher.py:4: FutureWarning: Indexing with multiple keys (implicitly converted to a tuple of keys) will be deprecated, use a list instead.\n",
            "  after removing the cwd from sys.path.\n"
          ],
          "name": "stderr"
        }
      ]
    },
    {
      "cell_type": "code",
      "metadata": {
        "id": "aUjODLTy6e_O",
        "colab_type": "code",
        "colab": {
          "base_uri": "https://localhost:8080/",
          "height": 173
        },
        "outputId": "4fe9f785-90ef-4b2d-92ff-e1b289371a78"
      },
      "source": [
        "cigar_did"
      ],
      "execution_count": 5,
      "outputs": [
        {
          "output_type": "execute_result",
          "data": {
            "text/html": [
              "<div>\n",
              "<style scoped>\n",
              "    .dataframe tbody tr th:only-of-type {\n",
              "        vertical-align: middle;\n",
              "    }\n",
              "\n",
              "    .dataframe tbody tr th {\n",
              "        vertical-align: top;\n",
              "    }\n",
              "\n",
              "    .dataframe thead th {\n",
              "        text-align: right;\n",
              "    }\n",
              "</style>\n",
              "<table border=\"1\" class=\"dataframe\">\n",
              "  <thead>\n",
              "    <tr style=\"text-align: right;\">\n",
              "      <th></th>\n",
              "      <th>period</th>\n",
              "      <th>area</th>\n",
              "      <th>pop16</th>\n",
              "      <th>sales*pop16</th>\n",
              "      <th>sales</th>\n",
              "    </tr>\n",
              "  </thead>\n",
              "  <tbody>\n",
              "    <tr>\n",
              "      <th>0</th>\n",
              "      <td>0_before</td>\n",
              "      <td>CA</td>\n",
              "      <td>318136.5</td>\n",
              "      <td>3.711305e+07</td>\n",
              "      <td>116.657645</td>\n",
              "    </tr>\n",
              "    <tr>\n",
              "      <th>1</th>\n",
              "      <td>0_before</td>\n",
              "      <td>Rest of US</td>\n",
              "      <td>1688312.3</td>\n",
              "      <td>2.141490e+08</td>\n",
              "      <td>126.842072</td>\n",
              "    </tr>\n",
              "    <tr>\n",
              "      <th>2</th>\n",
              "      <td>1_after</td>\n",
              "      <td>CA</td>\n",
              "      <td>111776.6</td>\n",
              "      <td>8.620770e+06</td>\n",
              "      <td>77.124997</td>\n",
              "    </tr>\n",
              "    <tr>\n",
              "      <th>3</th>\n",
              "      <td>1_after</td>\n",
              "      <td>Rest of US</td>\n",
              "      <td>530748.7</td>\n",
              "      <td>5.673049e+07</td>\n",
              "      <td>106.887669</td>\n",
              "    </tr>\n",
              "  </tbody>\n",
              "</table>\n",
              "</div>"
            ],
            "text/plain": [
              "     period        area      pop16   sales*pop16       sales\n",
              "0  0_before          CA   318136.5  3.711305e+07  116.657645\n",
              "1  0_before  Rest of US  1688312.3  2.141490e+08  126.842072\n",
              "2   1_after          CA   111776.6  8.620770e+06   77.124997\n",
              "3   1_after  Rest of US   530748.7  5.673049e+07  106.887669"
            ]
          },
          "metadata": {
            "tags": []
          },
          "execution_count": 5
        }
      ]
    },
    {
      "cell_type": "code",
      "metadata": {
        "id": "4WtyDuTT6xHT",
        "colab_type": "code",
        "colab": {
          "base_uri": "https://localhost:8080/",
          "height": 266
        },
        "outputId": "0d23d5dc-f829-4833-8b3c-08fb7c4de544"
      },
      "source": [
        "%matplotlib inline\n",
        "import matplotlib.pyplot as plt\n",
        "\n",
        "plt.plot(cigar_did[cigar_did['area'] == 'CA']['period'], cigar_did[cigar_did['area'] == 'CA']['sales'], 'o-', label='CA')\n",
        "plt.plot(cigar_did[cigar_did['area'] == 'Rest of US']['period'], cigar_did[cigar_did['area'] == 'Rest of US']['sales'], '^--', label='Rest of US')\n",
        "plt.ylim([0, plt.ylim()[1]])\n",
        "\n",
        "plt.legend()\n",
        "plt.show()"
      ],
      "execution_count": 6,
      "outputs": [
        {
          "output_type": "display_data",
          "data": {
            "image/png": "[encoded data removed]",
            "text/plain": [
              "<Figure size 432x288 with 1 Axes>"
            ]
          },
          "metadata": {
            "tags": [],
            "needs_background": "light"
          }
        }
      ]
    },
    {
      "cell_type": "markdown",
      "metadata": {
        "id": "y_qjZJc44wob",
        "colab_type": "text"
      },
      "source": [
        "## 回帰分析"
      ]
    },
    {
      "cell_type": "code",
      "metadata": {
        "id": "11T9Vdfq0_PW",
        "colab_type": "code",
        "colab": {
          "base_uri": "https://localhost:8080/",
          "height": 51
        },
        "outputId": "2c0beeef-c20b-4711-ad16-bade7a0ae023"
      },
      "source": [
        "cigar_did_sum = cigar.copy()\n",
        "cigar_did_sum['post'] = cigar_did_sum['year'].apply(lambda x: 1 if x > 87 else 0)\n",
        "cigar_did_sum['ca'] = cigar_did_sum['state'].apply(lambda x: 1 if x == 5 else 0)\n",
        "cigar_did_sum['year_dummy'] =  'D_' + cigar_did_sum['year'].astype(str)\n",
        "cigar_did_sum['sales*pop16'] = cigar_did_sum['sales'] * cigar_did_sum['pop16']\n",
        "cigar_did_sum = cigar_did_sum.groupby(['post', 'year', 'year_dummy', 'ca'], as_index=False)['pop16', 'sales*pop16'].sum()\n",
        "cigar_did_sum['sales'] = cigar_did_sum['sales*pop16'] / cigar_did_sum['pop16']"
      ],
      "execution_count": 7,
      "outputs": [
        {
          "output_type": "stream",
          "text": [
            "/usr/local/lib/python3.6/dist-packages/ipykernel_launcher.py:6: FutureWarning: Indexing with multiple keys (implicitly converted to a tuple of keys) will be deprecated, use a list instead.\n",
            "  \n"
          ],
          "name": "stderr"
        }
      ]
    },
    {
      "cell_type": "code",
      "metadata": {
        "id": "Etq-y7Fi0XMD",
        "colab_type": "code",
        "colab": {
          "base_uri": "https://localhost:8080/",
          "height": 173
        },
        "outputId": "b89ae5e9-8ff1-4b43-ce8a-5d3cff483609"
      },
      "source": [
        "from statsmodels.formula.api import ols\n",
        "\n",
        "cigar_did_reg = ols('sales ~ ca + post + ca:post + year_dummy', data=cigar_did_sum).fit()\n",
        "results = pd.read_html(cigar_did_reg.summary().tables[1].as_html(), header=0)[0]\n",
        "results[~results['Unnamed: 0'].str.startswith('year')]"
      ],
      "execution_count": 8,
      "outputs": [
        {
          "output_type": "execute_result",
          "data": {
            "text/html": [
              "<div>\n",
              "<style scoped>\n",
              "    .dataframe tbody tr th:only-of-type {\n",
              "        vertical-align: middle;\n",
              "    }\n",
              "\n",
              "    .dataframe tbody tr th {\n",
              "        vertical-align: top;\n",
              "    }\n",
              "\n",
              "    .dataframe thead th {\n",
              "        text-align: right;\n",
              "    }\n",
              "</style>\n",
              "<table border=\"1\" class=\"dataframe\">\n",
              "  <thead>\n",
              "    <tr style=\"text-align: right;\">\n",
              "      <th></th>\n",
              "      <th>Unnamed: 0</th>\n",
              "      <th>coef</th>\n",
              "      <th>std err</th>\n",
              "      <th>t</th>\n",
              "      <th>P&gt;|t|</th>\n",
              "      <th>[0.025</th>\n",
              "      <th>0.975]</th>\n",
              "    </tr>\n",
              "  </thead>\n",
              "  <tbody>\n",
              "    <tr>\n",
              "      <th>0</th>\n",
              "      <td>Intercept</td>\n",
              "      <td>123.5615</td>\n",
              "      <td>4.519</td>\n",
              "      <td>27.340</td>\n",
              "      <td>0.000</td>\n",
              "      <td>114.163</td>\n",
              "      <td>132.960</td>\n",
              "    </tr>\n",
              "    <tr>\n",
              "      <th>23</th>\n",
              "      <td>ca</td>\n",
              "      <td>-9.0898</td>\n",
              "      <td>2.074</td>\n",
              "      <td>-4.384</td>\n",
              "      <td>0.000</td>\n",
              "      <td>-13.402</td>\n",
              "      <td>-4.777</td>\n",
              "    </tr>\n",
              "    <tr>\n",
              "      <th>24</th>\n",
              "      <td>post</td>\n",
              "      <td>-13.8569</td>\n",
              "      <td>4.423</td>\n",
              "      <td>-3.133</td>\n",
              "      <td>0.005</td>\n",
              "      <td>-23.054</td>\n",
              "      <td>-4.660</td>\n",
              "    </tr>\n",
              "    <tr>\n",
              "      <th>25</th>\n",
              "      <td>ca:post</td>\n",
              "      <td>-20.5435</td>\n",
              "      <td>4.447</td>\n",
              "      <td>-4.619</td>\n",
              "      <td>0.000</td>\n",
              "      <td>-29.792</td>\n",
              "      <td>-11.295</td>\n",
              "    </tr>\n",
              "  </tbody>\n",
              "</table>\n",
              "</div>"
            ],
            "text/plain": [
              "   Unnamed: 0      coef  std err       t  P>|t|   [0.025   0.975]\n",
              "0   Intercept  123.5615    4.519  27.340  0.000  114.163  132.960\n",
              "23         ca   -9.0898    2.074  -4.384  0.000  -13.402   -4.777\n",
              "24       post  -13.8569    4.423  -3.133  0.005  -23.054   -4.660\n",
              "25    ca:post  -20.5435    4.447  -4.619  0.000  -29.792  -11.295"
            ]
          },
          "metadata": {
            "tags": []
          },
          "execution_count": 8
        }
      ]
    },
    {
      "cell_type": "code",
      "metadata": {
        "id": "6Dp-3RFUADe8",
        "colab_type": "code",
        "colab": {
          "base_uri": "https://localhost:8080/",
          "height": 173
        },
        "outputId": "5791de0c-3e18-49da-b7b2-7ebefd5ef03b"
      },
      "source": [
        "import numpy as np\n",
        "\n",
        "cigar_did_sumlog = cigar_did_sum.copy()\n",
        "cigar_did_sumlog['log_sales'] = np.log(cigar_did_sumlog['sales'])\n",
        "\n",
        "cigar_did_logreg = ols('log_sales ~ ca + post + ca:post + year_dummy', data=cigar_did_sumlog).fit()\n",
        "results = pd.read_html(cigar_did_logreg.summary().tables[1].as_html(), header=0)[0]\n",
        "results[~results['Unnamed: 0'].str.startswith('year')]"
      ],
      "execution_count": 9,
      "outputs": [
        {
          "output_type": "execute_result",
          "data": {
            "text/html": [
              "<div>\n",
              "<style scoped>\n",
              "    .dataframe tbody tr th:only-of-type {\n",
              "        vertical-align: middle;\n",
              "    }\n",
              "\n",
              "    .dataframe tbody tr th {\n",
              "        vertical-align: top;\n",
              "    }\n",
              "\n",
              "    .dataframe thead th {\n",
              "        text-align: right;\n",
              "    }\n",
              "</style>\n",
              "<table border=\"1\" class=\"dataframe\">\n",
              "  <thead>\n",
              "    <tr style=\"text-align: right;\">\n",
              "      <th></th>\n",
              "      <th>Unnamed: 0</th>\n",
              "      <th>coef</th>\n",
              "      <th>std err</th>\n",
              "      <th>t</th>\n",
              "      <th>P&gt;|t|</th>\n",
              "      <th>[0.025</th>\n",
              "      <th>0.975]</th>\n",
              "    </tr>\n",
              "  </thead>\n",
              "  <tbody>\n",
              "    <tr>\n",
              "      <th>0</th>\n",
              "      <td>Intercept</td>\n",
              "      <td>4.8171</td>\n",
              "      <td>0.042</td>\n",
              "      <td>114.363</td>\n",
              "      <td>0.000</td>\n",
              "      <td>4.729</td>\n",
              "      <td>4.905</td>\n",
              "    </tr>\n",
              "    <tr>\n",
              "      <th>23</th>\n",
              "      <td>ca</td>\n",
              "      <td>-0.0767</td>\n",
              "      <td>0.019</td>\n",
              "      <td>-3.969</td>\n",
              "      <td>0.001</td>\n",
              "      <td>-0.117</td>\n",
              "      <td>-0.037</td>\n",
              "    </tr>\n",
              "    <tr>\n",
              "      <th>24</th>\n",
              "      <td>post</td>\n",
              "      <td>-0.1213</td>\n",
              "      <td>0.041</td>\n",
              "      <td>-2.944</td>\n",
              "      <td>0.008</td>\n",
              "      <td>-0.207</td>\n",
              "      <td>-0.036</td>\n",
              "    </tr>\n",
              "    <tr>\n",
              "      <th>25</th>\n",
              "      <td>ca:post</td>\n",
              "      <td>-0.2530</td>\n",
              "      <td>0.041</td>\n",
              "      <td>-6.105</td>\n",
              "      <td>0.000</td>\n",
              "      <td>-0.339</td>\n",
              "      <td>-0.167</td>\n",
              "    </tr>\n",
              "  </tbody>\n",
              "</table>\n",
              "</div>"
            ],
            "text/plain": [
              "   Unnamed: 0    coef  std err        t  P>|t|  [0.025  0.975]\n",
              "0   Intercept  4.8171    0.042  114.363  0.000   4.729   4.905\n",
              "23         ca -0.0767    0.019   -3.969  0.001  -0.117  -0.037\n",
              "24       post -0.1213    0.041   -2.944  0.008  -0.207  -0.036\n",
              "25    ca:post -0.2530    0.041   -6.105  0.000  -0.339  -0.167"
            ]
          },
          "metadata": {
            "tags": []
          },
          "execution_count": 9
        }
      ]
    },
    {
      "cell_type": "markdown",
      "metadata": {
        "id": "Q-rD71FjA0bb",
        "colab_type": "text"
      },
      "source": [
        "## 売り上げデータのプロット"
      ]
    },
    {
      "cell_type": "code",
      "metadata": {
        "id": "9QvbvazBB97U",
        "colab_type": "code",
        "colab": {
          "base_uri": "https://localhost:8080/",
          "height": 265
        },
        "outputId": "e5867052-1f70-48c8-ac29-0d403ce9129b"
      },
      "source": [
        "plt.plot(cigar_did_sum[cigar_did_sum['ca'] == 1]['year'], cigar_did_sum[cigar_did_sum['ca'] == 1]['sales'], 'o-', label='CA')\n",
        "plt.plot(cigar_did_sum[cigar_did_sum['ca'] == 0]['year'], cigar_did_sum[cigar_did_sum['ca'] == 0]['sales'], '^--', label='Rest of US')\n",
        "plt.ylim([0, plt.ylim()[1]])\n",
        "plt.vlines(88, 0,  150, linestyles='dashed')\n",
        "\n",
        "plt.legend()\n",
        "plt.show()"
      ],
      "execution_count": 10,
      "outputs": [
        {
          "output_type": "display_data",
          "data": {
            "image/png": "[encoded data removed]",
            "text/plain": [
              "<Figure size 432x288 with 1 Axes>"
            ]
          },
          "metadata": {
            "tags": [],
            "needs_background": "light"
          }
        }
      ]
    },
    {
      "cell_type": "markdown",
      "metadata": {
        "id": "KqqOVeiQCK20",
        "colab_type": "text"
      },
      "source": [
        "# CausalImpact"
      ]
    },
    {
      "cell_type": "code",
      "metadata": {
        "id": "ocfzPBaaDU8Z",
        "colab_type": "code",
        "colab": {}
      },
      "source": [
        "y = cigar[cigar['state'] == 5][['year', 'sales']].set_index('year')\n",
        "X_sales = pd.pivot_table(cigar[cigar.state != 5][['state', 'sales', 'year']], index='year', columns='state', values='sales').add_prefix('sales_')\n",
        "pre_period = [cigar[cigar['year'] < 88]['year'].min(), cigar[cigar['year'] < 88]['year'].max()]\n",
        "post_period = [cigar[cigar['year'] >= 88]['year'].min(), cigar[cigar['year'] >= 88]['year'].max()]\n",
        "CI_data = pd.concat([y, X_sales], axis=1)"
      ],
      "execution_count": 63,
      "outputs": []
    },
    {
      "cell_type": "code",
      "metadata": {
        "id": "oK6QcHgqOUv8",
        "colab_type": "code",
        "colab": {}
      },
      "source": [
        "!pip install -q pycausalimpact"
      ],
      "execution_count": 13,
      "outputs": []
    },
    {
      "cell_type": "code",
      "metadata": {
        "id": "R9P69-4NKn7N",
        "colab_type": "code",
        "colab": {
          "base_uri": "https://localhost:8080/",
          "height": 173
        },
        "outputId": "a7a16ea9-ab10-4ba8-a308-7410af7e1773"
      },
      "source": [
        "from causalimpact import CausalImpact\n",
        "\n",
        "impact = CausalImpact(CI_data, pre_period, post_period, prior_level_sd=None)"
      ],
      "execution_count": 64,
      "outputs": [
        {
          "output_type": "stream",
          "text": [
            "/usr/local/lib/python3.6/dist-packages/statsmodels/tsa/base/tsa_model.py:214: ValueWarning: An unsupported index was provided and will be ignored when e.g. forecasting.\n",
            "  ' ignored when e.g. forecasting.', ValueWarning)\n",
            "/usr/local/lib/python3.6/dist-packages/statsmodels/base/model.py:568: ConvergenceWarning: Maximum Likelihood optimization failed to converge. Check mle_retvals\n",
            "  \"Check mle_retvals\", ConvergenceWarning)\n",
            "/usr/local/lib/python3.6/dist-packages/statsmodels/tsa/base/tsa_model.py:583: ValueWarning: No supported index is available. Prediction results will be given with an integer index beginning at `start`.\n",
            "  ValueWarning)\n",
            "/usr/local/lib/python3.6/dist-packages/statsmodels/tsa/base/tsa_model.py:214: ValueWarning: An unsupported index was provided and will be ignored when e.g. forecasting.\n",
            "  ' ignored when e.g. forecasting.', ValueWarning)\n"
          ],
          "name": "stderr"
        }
      ]
    },
    {
      "cell_type": "code",
      "metadata": {
        "id": "IqsyokR-TpPX",
        "colab_type": "code",
        "colab": {
          "base_uri": "https://localhost:8080/",
          "height": 787
        },
        "outputId": "0cd90681-2d26-46bc-9dcd-66ce29f5daaa"
      },
      "source": [
        "# Rの結果と異なるが、扱っている手法が違う\n",
        "impact.plot()"
      ],
      "execution_count": 65,
      "outputs": [
        {
          "output_type": "display_data",
          "data": {
            "image/png": "[encoded data removed]",
            "text/plain": [
              "<Figure size 1080x864 with 3 Axes>"
            ]
          },
          "metadata": {
            "tags": [],
            "needs_background": "light"
          }
        }
      ]
    },
    {
      "cell_type": "code",
      "metadata": {
        "id": "3QS18UO2U2jN",
        "colab_type": "code",
        "colab": {
          "base_uri": "https://localhost:8080/",
          "height": 289
        },
        "outputId": "f7e3af8e-7b02-4816-a993-f0fd0962875f"
      },
      "source": [
        "print(impact.summary())"
      ],
      "execution_count": 66,
      "outputs": [
        {
          "output_type": "stream",
          "text": [
            "Posterior Inference {Causal Impact}\n",
            "                          Average            Cumulative\n",
            "Actual                    77.3               386.5\n",
            "Prediction (s.d.)         81.36 (0.0)        406.8 (0.02)\n",
            "95% CI                    [81.35, 81.37]     [406.76, 406.84]\n",
            "\n",
            "Absolute effect (s.d.)    -4.06 (0.0)        -20.3 (0.02)\n",
            "95% CI                    [-4.07, -4.05]     [-20.34, -20.26]\n",
            "\n",
            "Relative effect (s.d.)    -4.99% (0.0%)      -4.99% (0.0%)\n",
            "95% CI                    [-5.0%, -4.98%]    [-5.0%, -4.98%]\n",
            "\n",
            "Posterior tail-area probability p: 0.0\n",
            "Posterior prob. of a causal effect: 100.0%\n",
            "\n",
            "For more details run the command: print(impact.summary('report'))\n"
          ],
          "name": "stdout"
        }
      ]
    },
    {
      "cell_type": "code",
      "metadata": {
        "id": "omu9vMMaT6F9",
        "colab_type": "code",
        "colab": {
          "base_uri": "https://localhost:8080/",
          "height": 359
        },
        "outputId": "f331b453-fdd3-4367-fe1b-382f93d2f59d"
      },
      "source": [
        "impact.summary_data"
      ],
      "execution_count": 67,
      "outputs": [
        {
          "output_type": "execute_result",
          "data": {
            "text/html": [
              "<div>\n",
              "<style scoped>\n",
              "    .dataframe tbody tr th:only-of-type {\n",
              "        vertical-align: middle;\n",
              "    }\n",
              "\n",
              "    .dataframe tbody tr th {\n",
              "        vertical-align: top;\n",
              "    }\n",
              "\n",
              "    .dataframe thead th {\n",
              "        text-align: right;\n",
              "    }\n",
              "</style>\n",
              "<table border=\"1\" class=\"dataframe\">\n",
              "  <thead>\n",
              "    <tr style=\"text-align: right;\">\n",
              "      <th></th>\n",
              "      <th>average</th>\n",
              "      <th>cumulative</th>\n",
              "    </tr>\n",
              "  </thead>\n",
              "  <tbody>\n",
              "    <tr>\n",
              "      <th>actual</th>\n",
              "      <td>77.300000</td>\n",
              "      <td>386.500000</td>\n",
              "    </tr>\n",
              "    <tr>\n",
              "      <th>predicted</th>\n",
              "      <td>81.360376</td>\n",
              "      <td>406.801882</td>\n",
              "    </tr>\n",
              "    <tr>\n",
              "      <th>predicted_lower</th>\n",
              "      <td>81.352999</td>\n",
              "      <td>406.764995</td>\n",
              "    </tr>\n",
              "    <tr>\n",
              "      <th>predicted_upper</th>\n",
              "      <td>81.367705</td>\n",
              "      <td>406.838525</td>\n",
              "    </tr>\n",
              "    <tr>\n",
              "      <th>abs_effect</th>\n",
              "      <td>-4.060376</td>\n",
              "      <td>-20.301882</td>\n",
              "    </tr>\n",
              "    <tr>\n",
              "      <th>abs_effect_lower</th>\n",
              "      <td>-4.067705</td>\n",
              "      <td>-20.338525</td>\n",
              "    </tr>\n",
              "    <tr>\n",
              "      <th>abs_effect_upper</th>\n",
              "      <td>-4.052999</td>\n",
              "      <td>-20.264995</td>\n",
              "    </tr>\n",
              "    <tr>\n",
              "      <th>rel_effect</th>\n",
              "      <td>-0.049906</td>\n",
              "      <td>-0.049906</td>\n",
              "    </tr>\n",
              "    <tr>\n",
              "      <th>rel_effect_lower</th>\n",
              "      <td>-0.049996</td>\n",
              "      <td>-0.049996</td>\n",
              "    </tr>\n",
              "    <tr>\n",
              "      <th>rel_effect_upper</th>\n",
              "      <td>-0.049815</td>\n",
              "      <td>-0.049815</td>\n",
              "    </tr>\n",
              "  </tbody>\n",
              "</table>\n",
              "</div>"
            ],
            "text/plain": [
              "                    average  cumulative\n",
              "actual            77.300000  386.500000\n",
              "predicted         81.360376  406.801882\n",
              "predicted_lower   81.352999  406.764995\n",
              "predicted_upper   81.367705  406.838525\n",
              "abs_effect        -4.060376  -20.301882\n",
              "abs_effect_lower  -4.067705  -20.338525\n",
              "abs_effect_upper  -4.052999  -20.264995\n",
              "rel_effect        -0.049906   -0.049906\n",
              "rel_effect_lower  -0.049996   -0.049996\n",
              "rel_effect_upper  -0.049815   -0.049815"
            ]
          },
          "metadata": {
            "tags": []
          },
          "execution_count": 67
        }
      ]
    },
    {
      "cell_type": "code",
      "metadata": {
        "id": "K--qdeC6HUZk",
        "colab_type": "code",
        "colab": {}
      },
      "source": [
        ""
      ],
      "execution_count": 19,
      "outputs": []
    }
  ]
}